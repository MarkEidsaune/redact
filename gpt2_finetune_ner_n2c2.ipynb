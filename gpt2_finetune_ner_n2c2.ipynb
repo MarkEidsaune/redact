{
 "cells": [
  {
   "attachments": {},
   "cell_type": "markdown",
   "metadata": {},
   "source": [
    "# Finetuning GPT2\n",
    "* Named entity recognition task\n",
    "* N2C2 2006 & 2014 Deidentification Challenge dataset"
   ]
  },
  {
   "cell_type": "code",
   "execution_count": 1,
   "metadata": {},
   "outputs": [],
   "source": [
    "import os\n",
    "import numpy as np\n",
    "import torch\n",
    "import torch.nn as nn \n",
    "from torch.nn import functional as F\n",
    "import json\n",
    "import math\n",
    "from dataclasses import dataclass\n",
    "from redact.gpt2_model import GPTConfig, GPT, LayerNorm\n",
    "import time"
   ]
  },
  {
   "cell_type": "code",
   "execution_count": 78,
   "metadata": {},
   "outputs": [],
   "source": [
    "data_dir = '/media/nvme2/n2c2/'\n",
    "model_dir = '/media/nvme2/models/redact/'\n",
    "block_size = 1024\n",
    "batch_size = 6\n",
    "device_type = 'cuda'\n",
    "device = 'cuda'"
   ]
  },
  {
   "attachments": {},
   "cell_type": "markdown",
   "metadata": {},
   "source": [
    "### Get data and define simple data loader"
   ]
  },
  {
   "cell_type": "code",
   "execution_count": 79,
   "metadata": {},
   "outputs": [],
   "source": [
    "train_data = np.load(os.path.join(data_dir, 'train.npy'))\n",
    "val_data = np.load(os.path.join(data_dir, 'val.npy'))\n",
    "\n",
    "def get_batch(split):\n",
    "    data = train_data if split == 'train' else val_data\n",
    "    ix = torch.randint(len(data) - block_size, (batch_size,))\n",
    "    x = torch.stack([torch.from_numpy((data[i:i+block_size, 0]).astype(np.int64)) for i in ix])\n",
    "    y = torch.stack([torch.from_numpy((data[i:i+block_size, 1]).astype(np.int64)) for i in ix])\n",
    "    x, y = x.to(device), y.to(device)\n",
    "    return x, y"
   ]
  },
  {
   "cell_type": "code",
   "execution_count": 80,
   "metadata": {},
   "outputs": [
    {
     "data": {
      "text/plain": [
       "(torch.Size([3, 1024]), torch.Size([3, 1024]))"
      ]
     },
     "execution_count": 80,
     "metadata": {},
     "output_type": "execute_result"
    }
   ],
   "source": [
    "X, Y = get_batch('train')\n",
    "X.shape, Y.shape"
   ]
  },
  {
   "cell_type": "code",
   "execution_count": 81,
   "metadata": {},
   "outputs": [],
   "source": [
    "with open('redact/data/n2c2/label2id.json', 'r') as f:\n",
    "    label2id = json.load(f)"
   ]
  },
  {
   "cell_type": "code",
   "execution_count": 82,
   "metadata": {},
   "outputs": [
    {
     "data": {
      "text/plain": [
       "17"
      ]
     },
     "execution_count": 82,
     "metadata": {},
     "output_type": "execute_result"
    }
   ],
   "source": [
    "n_labels = max(label2id.values())\n",
    "n_labels"
   ]
  },
  {
   "attachments": {},
   "cell_type": "markdown",
   "metadata": {},
   "source": [
    "## Load pretrained model checkpoint"
   ]
  },
  {
   "cell_type": "code",
   "execution_count": 83,
   "metadata": {},
   "outputs": [],
   "source": [
    "model_args = dict(n_layer=12, n_head=12, n_embd=768,\n",
    "                  block_size=1024, dropout=0.0, \n",
    "                  vocab_size=None, bias=False)"
   ]
  },
  {
   "cell_type": "code",
   "execution_count": 84,
   "metadata": {},
   "outputs": [
    {
     "data": {
      "text/plain": [
       "{'n_layer': 12,\n",
       " 'n_head': 12,\n",
       " 'n_embd': 768,\n",
       " 'block_size': 1024,\n",
       " 'dropout': 0.0,\n",
       " 'vocab_size': 50304,\n",
       " 'bias': False}"
      ]
     },
     "execution_count": 84,
     "metadata": {},
     "output_type": "execute_result"
    }
   ],
   "source": [
    "ckpt_path = os.path.join(model_dir, 'ckpt.pt')\n",
    "checkpoint = torch.load(ckpt_path, map_location=device)\n",
    "checkpoint_model_args = checkpoint['model_args']\n",
    "checkpoint_model_args"
   ]
  },
  {
   "cell_type": "code",
   "execution_count": 85,
   "metadata": {},
   "outputs": [
    {
     "data": {
      "text/plain": [
       "{'n_layer': 12,\n",
       " 'n_head': 12,\n",
       " 'n_embd': 768,\n",
       " 'block_size': 1024,\n",
       " 'dropout': 0.0,\n",
       " 'vocab_size': 50304,\n",
       " 'bias': False}"
      ]
     },
     "execution_count": 85,
     "metadata": {},
     "output_type": "execute_result"
    }
   ],
   "source": [
    "for k in ['n_layer', 'n_head', 'n_embd', 'block_size', 'bias', 'vocab_size']:\n",
    "    model_args[k] = checkpoint_model_args[k]\n",
    "model_args"
   ]
  },
  {
   "attachments": {},
   "cell_type": "markdown",
   "metadata": {},
   "source": [
    "## Init model"
   ]
  },
  {
   "cell_type": "code",
   "execution_count": 99,
   "metadata": {},
   "outputs": [
    {
     "name": "stdout",
     "output_type": "stream",
     "text": [
      "number of parameters: 124.37M\n"
     ]
    }
   ],
   "source": [
    "gptconf = GPTConfig(**model_args)\n",
    "model = GPT(gptconf)"
   ]
  },
  {
   "cell_type": "code",
   "execution_count": 100,
   "metadata": {},
   "outputs": [],
   "source": [
    "state_dict = checkpoint['model']\n",
    "unwanted_prefix = '_orig_mod.'\n",
    "for k, v in list(state_dict.items()):\n",
    "    if k.startswith(unwanted_prefix):\n",
    "        state_dict[k[len(unwanted_prefix):]] = state_dict.pop(k)"
   ]
  },
  {
   "cell_type": "code",
   "execution_count": 101,
   "metadata": {},
   "outputs": [
    {
     "data": {
      "text/plain": [
       "GPT(\n",
       "  (transformer): ModuleDict(\n",
       "    (wte): Embedding(50304, 768)\n",
       "    (wpe): Embedding(1024, 768)\n",
       "    (drop): Dropout(p=0.0, inplace=False)\n",
       "    (h): ModuleList(\n",
       "      (0-11): 12 x Block(\n",
       "        (ln_1): LayerNorm()\n",
       "        (attn): CausalSelfAttention(\n",
       "          (c_attn): Linear(in_features=768, out_features=2304, bias=False)\n",
       "          (c_proj): Linear(in_features=768, out_features=768, bias=False)\n",
       "          (attn_dropout): Dropout(p=0.0, inplace=False)\n",
       "          (resid_dropout): Dropout(p=0.0, inplace=False)\n",
       "        )\n",
       "        (ln_2): LayerNorm()\n",
       "        (mlp): MLP(\n",
       "          (c_fc): Linear(in_features=768, out_features=3072, bias=False)\n",
       "          (c_proj): Linear(in_features=3072, out_features=768, bias=False)\n",
       "          (dropout): Dropout(p=0.0, inplace=False)\n",
       "        )\n",
       "      )\n",
       "    )\n",
       "    (ln_f): LayerNorm()\n",
       "  )\n",
       "  (lm_head): Linear(in_features=768, out_features=50304, bias=False)\n",
       ")"
      ]
     },
     "execution_count": 101,
     "metadata": {},
     "output_type": "execute_result"
    }
   ],
   "source": [
    "model.load_state_dict(state_dict)\n",
    "model"
   ]
  },
  {
   "attachments": {},
   "cell_type": "markdown",
   "metadata": {},
   "source": [
    "## Replace language model head  \n",
    "We need the model output features to match the number of NER labels (17).  Since the current head is tied to the token embedding layer, we'll simply add two additional linear layers that reduce our output from vocab_size to n_labels."
   ]
  },
  {
   "cell_type": "code",
   "execution_count": 102,
   "metadata": {},
   "outputs": [],
   "source": [
    "model.lm_head = nn.Sequential(\n",
    "    model.lm_head,\n",
    "    nn.Linear(model.lm_head.out_features, model.lm_head.out_features//32, bias=False),\n",
    "    nn.Linear(model.lm_head.out_features//32, model.lm_head.out_features//64, bias=False),\n",
    "    nn.Linear(model.lm_head.out_features//64, n_labels, bias=False)\n",
    ")\n",
    "    "
   ]
  },
  {
   "cell_type": "code",
   "execution_count": 103,
   "metadata": {},
   "outputs": [],
   "source": [
    "model.transformer.wte.weight = model.lm_head[0].weight"
   ]
  },
  {
   "cell_type": "code",
   "execution_count": 122,
   "metadata": {},
   "outputs": [
    {
     "name": "stdout",
     "output_type": "stream",
     "text": [
      "1\n",
      "2\n",
      "3\n"
     ]
    }
   ],
   "source": [
    "for i in range(1, 4):\n",
    "    print(i)"
   ]
  },
  {
   "cell_type": "code",
   "execution_count": 123,
   "metadata": {},
   "outputs": [],
   "source": [
    "for i in range(1, 4):\n",
    "    torch.nn.init.normal_(model.lm_head[i].weight, mean=0.0, std=0.02)"
   ]
  },
  {
   "attachments": {},
   "cell_type": "markdown",
   "metadata": {},
   "source": [
    "## Freeze all layers except new head"
   ]
  },
  {
   "cell_type": "code",
   "execution_count": 105,
   "metadata": {},
   "outputs": [],
   "source": [
    "for param in model.transformer.parameters():\n",
    "    param.requires_grad = False\n",
    "for param in model.lm_head[0].parameters():\n",
    "    param.requires_grad = False"
   ]
  },
  {
   "attachments": {},
   "cell_type": "markdown",
   "metadata": {},
   "source": [
    "## Configure optimizer"
   ]
  },
  {
   "cell_type": "code",
   "execution_count": 106,
   "metadata": {},
   "outputs": [],
   "source": [
    "learning_rate = 6e-5\n",
    "beta1, beta2 = 0.9, 0.95\n",
    "weight_decay = 1e-2"
   ]
  },
  {
   "cell_type": "code",
   "execution_count": 107,
   "metadata": {},
   "outputs": [],
   "source": [
    "decay = set()\n",
    "no_decay = set()\n",
    "whitelist_weight_modules = (torch.nn.Linear, )\n",
    "blacklist_weight_modules = (torch.nn.LayerNorm, LayerNorm, torch.nn.Embedding)\n",
    "for mn, m in model.named_modules():\n",
    "    for pn, p in m.named_parameters():\n",
    "        fpn = f'{mn:s}.{pn:s}'\n",
    "        if pn.endswith('bias'):\n",
    "            no_decay.add(fpn)\n",
    "        elif pn.endswith('weight') and isinstance(m, whitelist_weight_modules):\n",
    "            decay.add(fpn)\n",
    "        elif pn.endswith('weight') and isinstance(m, blacklist_weight_modules):\n",
    "            no_decay.add(fpn)\n",
    "decay.remove('lm_head.0.weight')\n",
    "\n",
    "param_dict = {pn: p for pn, p in model.named_parameters()}\n",
    "inter_params = decay & no_decay\n",
    "union_params = decay | no_decay\n",
    "assert len(inter_params) == 0, f'Parameters {inter_params:s} made it into both decay/no_decay sets'\n",
    "assert len(param_dict.keys() - union_params) == 0, f'Parameters {str(param_dict.keys() - union_params):s} were not separated into either decay/no_decay set'\n",
    "\n",
    "optim_groups = [\n",
    "    {'params': [param_dict[pn] for pn in sorted(list(decay))], 'weight_decay': weight_decay},\n",
    "    {'params': [param_dict[pn] for pn in sorted(list(no_decay))], 'weight_decay': 0.0}\n",
    "]\n",
    "\n",
    "optimizer = torch.optim.AdamW(\n",
    "    optim_groups, lr=learning_rate, betas=(beta1, beta2)\n",
    ")"
   ]
  },
  {
   "cell_type": "code",
   "execution_count": 124,
   "metadata": {},
   "outputs": [
    {
     "data": {
      "text/plain": [
       "4"
      ]
     },
     "execution_count": 124,
     "metadata": {},
     "output_type": "execute_result"
    }
   ],
   "source": [
    "len(model.lm_head)"
   ]
  },
  {
   "attachments": {},
   "cell_type": "markdown",
   "metadata": {},
   "source": [
    "## Train"
   ]
  },
  {
   "cell_type": "code",
   "execution_count": 108,
   "metadata": {},
   "outputs": [],
   "source": [
    "eval_iters = 100\n",
    "eval_interval = 200\n",
    "log_interval = 100\n",
    "max_iters = 5000\n",
    "warmup_iters = 100\n",
    "lr_decay_iters = 5000\n",
    "min_lr = 6e-6\n",
    "iter_num = 0\n",
    "best_val_loss = 1e9"
   ]
  },
  {
   "cell_type": "code",
   "execution_count": 109,
   "metadata": {},
   "outputs": [],
   "source": [
    "def get_lr(it):\n",
    "    # During warmup iterations: linear\n",
    "    if it < warmup_iters:\n",
    "        return learning_rate * it / warmup_iters\n",
    "    # After decay iterations: minimum\n",
    "    if it > lr_decay_iters:\n",
    "        return min_lr\n",
    "    # Decay iterations\n",
    "    decay_ratio = (it - warmup_iters) / (lr_decay_iters - warmup_iters)\n",
    "    assert 0 <= decay_ratio <= 1\n",
    "    coeff = 0.5 * (1.0 + math.cos(math.pi * decay_ratio))\n",
    "    return min_lr + coeff * (learning_rate - min_lr)"
   ]
  },
  {
   "cell_type": "code",
   "execution_count": 110,
   "metadata": {},
   "outputs": [],
   "source": [
    "model.to(device)\n",
    "model = torch.compile(model)"
   ]
  },
  {
   "cell_type": "code",
   "execution_count": 111,
   "metadata": {},
   "outputs": [],
   "source": [
    "@torch.no_grad()\n",
    "def estimate_loss():\n",
    "    out = {}\n",
    "    model.eval()\n",
    "    for split in ['train', 'val']:\n",
    "        losses = torch.zeros(eval_iters)\n",
    "        for k in range(eval_iters):\n",
    "            X, Y = get_batch(split)\n",
    "            _, loss = model(X, Y)\n",
    "            losses[k] = loss.item()\n",
    "        out[split] = losses.mean()\n",
    "    model.train()\n",
    "    return out"
   ]
  },
  {
   "cell_type": "code",
   "execution_count": 112,
   "metadata": {},
   "outputs": [
    {
     "name": "stdout",
     "output_type": "stream",
     "text": [
      "Step 0: train loss 24.9400, val loss 26.6054\n",
      "Iter 0: loss 22.2198, time70493.86ms\n",
      "Iter 100: loss 1.2670, time207.55ms\n",
      "Iter 200: loss 1.7076, time206.50ms\n",
      "Iter 300: loss 3.5656, time204.34ms\n",
      "Iter 400: loss 8.0180, time205.78ms\n",
      "Iter 500: loss 11.1423, time207.14ms\n",
      "Iter 600: loss 4.0604, time207.17ms\n",
      "Iter 700: loss 2.2430, time205.41ms\n",
      "Iter 800: loss 12.6018, time207.85ms\n",
      "Iter 900: loss 5.9803, time208.02ms\n",
      "Step 1000: train loss 50.6278, val loss 48.6745\n",
      "Iter 1000: loss 39.1062, time61435.46ms\n",
      "Iter 1100: loss 2.9812, time207.97ms\n",
      "Iter 1200: loss 0.4911, time208.05ms\n",
      "Iter 1300: loss 2.2143, time206.36ms\n",
      "Iter 1400: loss 1.2035, time206.91ms\n",
      "Iter 1500: loss 1.6806, time205.71ms\n",
      "Iter 1600: loss 0.5251, time210.84ms\n",
      "Iter 1700: loss 0.5683, time206.79ms\n",
      "Iter 1800: loss 1.5743, time207.67ms\n",
      "Iter 1900: loss 1.9710, time207.70ms\n",
      "Step 2000: train loss 0.7900, val loss 0.7401\n",
      "Iter 2000: loss 0.2554, time61354.58ms\n",
      "Iter 2100: loss 1.4368, time207.28ms\n",
      "Iter 2200: loss 1.7429, time208.63ms\n",
      "Iter 2300: loss 0.3090, time207.70ms\n",
      "Iter 2400: loss 0.6166, time205.30ms\n",
      "Iter 2500: loss 1.1985, time207.37ms\n",
      "Iter 2600: loss 0.5778, time207.58ms\n",
      "Iter 2700: loss 1.3675, time207.95ms\n",
      "Iter 2800: loss 0.5750, time206.95ms\n",
      "Iter 2900: loss 0.9110, time208.48ms\n",
      "Step 3000: train loss 0.7880, val loss 0.7842\n",
      "Iter 3000: loss 0.5433, time61457.62ms\n",
      "Iter 3100: loss 0.2932, time206.30ms\n",
      "Iter 3200: loss 1.0879, time203.99ms\n",
      "Iter 3300: loss 0.7411, time207.80ms\n",
      "Iter 3400: loss 0.6203, time206.54ms\n",
      "Iter 3500: loss 0.2093, time208.07ms\n",
      "Iter 3600: loss 0.6985, time207.72ms\n",
      "Iter 3700: loss 0.6581, time207.08ms\n",
      "Iter 3800: loss 0.2239, time209.44ms\n",
      "Iter 3900: loss 1.8328, time206.66ms\n",
      "Step 4000: train loss 4.1384, val loss 3.9806\n",
      "Iter 4000: loss 6.8339, time61504.73ms\n",
      "Iter 4100: loss 0.8565, time208.60ms\n",
      "Iter 4200: loss 0.9081, time208.52ms\n",
      "Iter 4300: loss 0.4686, time206.51ms\n",
      "Iter 4400: loss 0.3704, time208.86ms\n",
      "Iter 4500: loss 0.3552, time207.76ms\n",
      "Iter 4600: loss 1.4757, time206.54ms\n",
      "Iter 4700: loss 0.5436, time209.08ms\n",
      "Iter 4800: loss 0.8546, time208.77ms\n",
      "Iter 4900: loss 0.4921, time208.46ms\n",
      "Step 5000: train loss 1.0250, val loss 1.0596\n",
      "Iter 5000: loss 0.3382, time61483.89ms\n",
      "Iter 5100: loss 0.6578, time206.73ms\n",
      "Iter 5200: loss 0.3444, time207.51ms\n",
      "Iter 5300: loss 0.8324, time207.62ms\n",
      "Iter 5400: loss 0.7166, time208.52ms\n",
      "Iter 5500: loss 0.1718, time207.15ms\n",
      "Iter 5600: loss 0.6294, time206.32ms\n",
      "Iter 5700: loss 0.5799, time209.99ms\n",
      "Iter 5800: loss 3.1566, time208.29ms\n",
      "Iter 5900: loss 0.3664, time207.80ms\n",
      "Step 6000: train loss 1.3003, val loss 1.3180\n",
      "Iter 6000: loss 0.8428, time61591.13ms\n",
      "Iter 6100: loss 0.7376, time209.05ms\n",
      "Iter 6200: loss 0.3969, time208.39ms\n",
      "Iter 6300: loss 1.1076, time207.22ms\n",
      "Iter 6400: loss 0.8303, time206.67ms\n",
      "Iter 6500: loss 0.6944, time205.44ms\n",
      "Iter 6600: loss 0.3956, time206.83ms\n",
      "Iter 6700: loss 0.3354, time206.52ms\n",
      "Iter 6800: loss 0.4061, time206.34ms\n",
      "Iter 6900: loss 0.6030, time207.80ms\n",
      "Step 7000: train loss 0.7331, val loss 0.6715\n",
      "Iter 7000: loss 0.6238, time61546.18ms\n",
      "Iter 7100: loss 0.8294, time208.27ms\n",
      "Iter 7200: loss 1.4069, time209.14ms\n",
      "Iter 7300: loss 0.5877, time207.01ms\n",
      "Iter 7400: loss 0.6162, time208.44ms\n",
      "Iter 7500: loss 0.3785, time208.48ms\n",
      "Iter 7600: loss 0.1509, time209.12ms\n",
      "Iter 7700: loss 1.4594, time209.05ms\n",
      "Iter 7800: loss 0.2792, time207.76ms\n",
      "Iter 7900: loss 0.1724, time206.96ms\n",
      "Step 8000: train loss 0.7388, val loss 0.6587\n",
      "Iter 8000: loss 0.2335, time61477.99ms\n",
      "Iter 8100: loss 0.2095, time207.56ms\n",
      "Iter 8200: loss 0.5196, time207.81ms\n",
      "Iter 8300: loss 1.5891, time211.14ms\n",
      "Iter 8400: loss 0.1060, time206.52ms\n",
      "Iter 8500: loss 0.2591, time210.90ms\n",
      "Iter 8600: loss 0.3097, time209.85ms\n",
      "Iter 8700: loss 0.5933, time208.52ms\n",
      "Iter 8800: loss 0.5226, time207.87ms\n",
      "Iter 8900: loss 1.3444, time207.13ms\n",
      "Step 9000: train loss 1.1279, val loss 1.0801\n",
      "Iter 9000: loss 0.3318, time61554.87ms\n",
      "Iter 9100: loss 0.3092, time208.41ms\n",
      "Iter 9200: loss 0.5419, time209.08ms\n",
      "Iter 9300: loss 0.2428, time209.53ms\n",
      "Iter 9400: loss 0.3340, time208.28ms\n",
      "Iter 9500: loss 0.4965, time207.09ms\n",
      "Iter 9600: loss 0.6928, time209.12ms\n",
      "Iter 9700: loss 0.0470, time208.81ms\n",
      "Iter 9800: loss 0.1612, time211.43ms\n",
      "Iter 9900: loss 0.5445, time206.54ms\n",
      "Step 10000: train loss 0.8876, val loss 0.8661\n",
      "Iter 10000: loss 0.0172, time61626.26ms\n",
      "Iter 10100: loss 1.2315, time206.17ms\n",
      "Iter 10200: loss 0.4760, time208.09ms\n",
      "Iter 10300: loss 0.5924, time205.43ms\n",
      "Iter 10400: loss 0.2637, time206.04ms\n",
      "Iter 10500: loss 0.3925, time209.73ms\n",
      "Iter 10600: loss 0.3973, time207.54ms\n",
      "Iter 10700: loss 0.4598, time207.03ms\n",
      "Iter 10800: loss 0.5947, time207.42ms\n",
      "Iter 10900: loss 0.1426, time207.78ms\n",
      "Step 11000: train loss 1.0513, val loss 1.0917\n",
      "Iter 11000: loss 0.6145, time61572.67ms\n",
      "Iter 11100: loss 1.1291, time206.60ms\n",
      "Iter 11200: loss 0.1445, time207.76ms\n",
      "Iter 11300: loss 0.3407, time207.85ms\n",
      "Iter 11400: loss 0.1652, time205.82ms\n",
      "Iter 11500: loss 0.3671, time210.93ms\n",
      "Iter 11600: loss 0.1283, time209.66ms\n",
      "Iter 11700: loss 0.3552, time208.97ms\n",
      "Iter 11800: loss 0.0788, time209.44ms\n",
      "Iter 11900: loss 0.1923, time210.36ms\n",
      "Step 12000: train loss 1.0343, val loss 1.0044\n",
      "Iter 12000: loss 0.0665, time61854.12ms\n",
      "Iter 12100: loss 0.1934, time209.73ms\n",
      "Iter 12200: loss 0.6688, time208.66ms\n",
      "Iter 12300: loss 0.6568, time207.28ms\n",
      "Iter 12400: loss 1.0092, time208.21ms\n",
      "Iter 12500: loss 0.2023, time207.96ms\n",
      "Iter 12600: loss 0.1528, time208.90ms\n",
      "Iter 12700: loss 0.5741, time210.30ms\n",
      "Iter 12800: loss 0.5993, time209.53ms\n",
      "Iter 12900: loss 0.2907, time209.32ms\n",
      "Step 13000: train loss 1.0325, val loss 0.9965\n",
      "Iter 13000: loss 0.3744, time61826.07ms\n",
      "Iter 13100: loss 0.5849, time209.93ms\n",
      "Iter 13200: loss 0.2751, time208.27ms\n",
      "Iter 13300: loss 0.8757, time210.35ms\n",
      "Iter 13400: loss 0.8311, time207.67ms\n",
      "Iter 13500: loss 0.2307, time208.02ms\n",
      "Iter 13600: loss 0.4140, time209.75ms\n",
      "Iter 13700: loss 0.3598, time208.81ms\n",
      "Iter 13800: loss 0.2263, time208.86ms\n",
      "Iter 13900: loss 0.6131, time208.05ms\n",
      "Step 14000: train loss 1.0946, val loss 1.2037\n",
      "Iter 14000: loss 0.6235, time61784.59ms\n",
      "Iter 14100: loss 0.7796, time210.45ms\n",
      "Iter 14200: loss 0.7028, time209.47ms\n",
      "Iter 14300: loss 0.1802, time207.21ms\n",
      "Iter 14400: loss 0.2454, time206.79ms\n",
      "Iter 14500: loss 0.1479, time208.62ms\n",
      "Iter 14600: loss 0.7848, time207.66ms\n",
      "Iter 14700: loss 0.1939, time208.14ms\n",
      "Iter 14800: loss 0.2356, time208.89ms\n",
      "Iter 14900: loss 0.0971, time209.17ms\n",
      "Step 15000: train loss 1.7536, val loss 1.5945\n",
      "Iter 15000: loss 0.4018, time61743.67ms\n",
      "Iter 15100: loss 0.4359, time207.63ms\n",
      "Iter 15200: loss 0.7029, time208.47ms\n",
      "Iter 15300: loss 0.1696, time207.38ms\n",
      "Iter 15400: loss 0.4316, time209.64ms\n",
      "Iter 15500: loss 0.2096, time208.90ms\n",
      "Iter 15600: loss 0.4957, time209.37ms\n",
      "Iter 15700: loss 0.1782, time208.55ms\n",
      "Iter 15800: loss 0.2819, time209.12ms\n",
      "Iter 15900: loss 0.7449, time207.36ms\n",
      "Step 16000: train loss 1.1051, val loss 1.0866\n",
      "Iter 16000: loss 0.2225, time61688.78ms\n",
      "Iter 16100: loss 0.5623, time209.20ms\n",
      "Iter 16200: loss 0.3236, time209.72ms\n",
      "Iter 16300: loss 0.1397, time206.34ms\n",
      "Iter 16400: loss 0.1117, time210.48ms\n",
      "Iter 16500: loss 0.4063, time206.20ms\n",
      "Iter 16600: loss 0.5054, time208.48ms\n",
      "Iter 16700: loss 0.0940, time206.43ms\n",
      "Iter 16800: loss 0.1757, time208.43ms\n",
      "Iter 16900: loss 0.2741, time207.50ms\n",
      "Step 17000: train loss 0.9711, val loss 0.9369\n",
      "Iter 17000: loss 0.2273, time61608.95ms\n",
      "Iter 17100: loss 0.1052, time209.77ms\n",
      "Iter 17200: loss 0.3874, time206.80ms\n",
      "Iter 17300: loss 0.2677, time208.97ms\n",
      "Iter 17400: loss 0.1371, time207.70ms\n",
      "Iter 17500: loss 0.2823, time206.52ms\n",
      "Iter 17600: loss 0.3302, time207.45ms\n",
      "Iter 17700: loss 0.2683, time208.63ms\n",
      "Iter 17800: loss 0.0121, time207.55ms\n",
      "Iter 17900: loss 0.2036, time207.49ms\n",
      "Step 18000: train loss 1.5793, val loss 1.4939\n",
      "Iter 18000: loss 0.2084, time61662.89ms\n",
      "Iter 18100: loss 0.8105, time207.64ms\n",
      "Iter 18200: loss 0.2768, time208.72ms\n",
      "Iter 18300: loss 0.1952, time208.35ms\n",
      "Iter 18400: loss 0.5214, time204.83ms\n",
      "Iter 18500: loss 0.0874, time209.45ms\n",
      "Iter 18600: loss 0.5172, time207.68ms\n",
      "Iter 18700: loss 0.2684, time209.43ms\n",
      "Iter 18800: loss 0.2170, time207.38ms\n",
      "Iter 18900: loss 0.3291, time208.98ms\n",
      "Step 19000: train loss 1.0227, val loss 0.9992\n",
      "Iter 19000: loss 0.1072, time61655.09ms\n",
      "Iter 19100: loss 0.1608, time206.34ms\n",
      "Iter 19200: loss 0.4516, time207.89ms\n",
      "Iter 19300: loss 0.3396, time208.31ms\n",
      "Iter 19400: loss 0.2542, time208.19ms\n",
      "Iter 19500: loss 0.1829, time209.61ms\n",
      "Iter 19600: loss 0.2059, time207.11ms\n",
      "Iter 19700: loss 0.3345, time211.23ms\n",
      "Iter 19800: loss 0.4172, time207.65ms\n",
      "Iter 19900: loss 0.6199, time207.02ms\n",
      "Step 20000: train loss 0.9057, val loss 0.9689\n",
      "Iter 20000: loss 0.2041, time61627.98ms\n",
      "Iter 20100: loss 0.1970, time209.19ms\n",
      "Iter 20200: loss 0.1354, time205.50ms\n",
      "Iter 20300: loss 0.2479, time208.76ms\n",
      "Iter 20400: loss 0.1240, time210.32ms\n",
      "Iter 20500: loss 0.4306, time205.20ms\n",
      "Iter 20600: loss 0.3049, time206.34ms\n",
      "Iter 20700: loss 0.2660, time208.09ms\n",
      "Iter 20800: loss 0.3222, time207.02ms\n",
      "Iter 20900: loss 0.7236, time206.08ms\n",
      "Step 21000: train loss 1.3898, val loss 1.2797\n",
      "Iter 21000: loss 0.0398, time61646.40ms\n",
      "Iter 21100: loss 0.2101, time208.34ms\n",
      "Iter 21200: loss 0.3419, time211.61ms\n",
      "Iter 21300: loss 0.3774, time208.18ms\n",
      "Iter 21400: loss 0.1398, time208.62ms\n",
      "Iter 21500: loss 0.1708, time210.40ms\n",
      "Iter 21600: loss 1.4933, time208.26ms\n",
      "Iter 21700: loss 0.1284, time207.21ms\n",
      "Iter 21800: loss 0.5402, time208.68ms\n",
      "Iter 21900: loss 0.2146, time209.12ms\n",
      "Step 22000: train loss 1.6164, val loss 1.6025\n",
      "Iter 22000: loss 0.7206, time61711.25ms\n",
      "Iter 22100: loss 0.6097, time208.05ms\n",
      "Iter 22200: loss 0.3112, time206.97ms\n",
      "Iter 22300: loss 0.1295, time209.52ms\n",
      "Iter 22400: loss 0.2367, time207.50ms\n",
      "Iter 22500: loss 0.5845, time205.84ms\n",
      "Iter 22600: loss 2.4393, time209.50ms\n",
      "Iter 22700: loss 0.1459, time207.58ms\n",
      "Iter 22800: loss 0.1371, time208.77ms\n",
      "Iter 22900: loss 0.0761, time207.48ms\n",
      "Step 23000: train loss 0.7672, val loss 0.8275\n",
      "Iter 23000: loss -0.0672, time61720.67ms\n",
      "Iter 23100: loss 0.4743, time206.34ms\n",
      "Iter 23200: loss 0.0827, time208.68ms\n",
      "Iter 23300: loss 0.2927, time208.94ms\n",
      "Iter 23400: loss 1.1409, time207.92ms\n",
      "Iter 23500: loss 0.1355, time207.73ms\n",
      "Iter 23600: loss 0.3043, time209.68ms\n",
      "Iter 23700: loss 0.4145, time208.98ms\n",
      "Iter 23800: loss 0.4515, time208.79ms\n",
      "Iter 23900: loss 0.2056, time209.14ms\n",
      "Step 24000: train loss 1.1707, val loss 1.1606\n",
      "Iter 24000: loss 0.2082, time61674.70ms\n",
      "Iter 24100: loss 0.2300, time210.84ms\n",
      "Iter 24200: loss 0.3112, time208.08ms\n",
      "Iter 24300: loss 0.4168, time207.93ms\n",
      "Iter 24400: loss 0.1740, time205.47ms\n",
      "Iter 24500: loss 0.2225, time207.22ms\n",
      "Iter 24600: loss 0.2111, time209.28ms\n",
      "Iter 24700: loss 0.2530, time207.23ms\n",
      "Iter 24800: loss 0.2358, time207.25ms\n",
      "Iter 24900: loss 0.4350, time209.19ms\n",
      "Step 25000: train loss 1.9262, val loss 1.8106\n",
      "Iter 25000: loss -0.0513, time61698.00ms\n",
      "Iter 25100: loss 0.0575, time208.70ms\n",
      "Iter 25200: loss 0.1949, time209.99ms\n",
      "Iter 25300: loss 0.7207, time207.53ms\n",
      "Iter 25400: loss 0.2928, time205.43ms\n",
      "Iter 25500: loss 0.2666, time209.94ms\n",
      "Iter 25600: loss 0.2818, time209.34ms\n",
      "Iter 25700: loss 0.3154, time208.37ms\n",
      "Iter 25800: loss 0.3953, time207.83ms\n",
      "Iter 25900: loss 0.4177, time209.44ms\n",
      "Step 26000: train loss 1.2438, val loss 1.1672\n",
      "Iter 26000: loss 0.2003, time61694.58ms\n",
      "Iter 26100: loss 0.2791, time209.13ms\n",
      "Iter 26200: loss 0.2841, time207.79ms\n",
      "Iter 26300: loss 0.1590, time208.81ms\n",
      "Iter 26400: loss 0.0829, time208.61ms\n",
      "Iter 26500: loss 0.1224, time207.69ms\n",
      "Iter 26600: loss 0.1141, time210.01ms\n",
      "Iter 26700: loss 0.0985, time208.15ms\n",
      "Iter 26800: loss 0.1615, time207.48ms\n",
      "Iter 26900: loss 0.2229, time208.02ms\n",
      "Step 27000: train loss 1.5661, val loss 1.6235\n",
      "Iter 27000: loss -0.1002, time61728.99ms\n",
      "Iter 27100: loss 0.4888, time208.28ms\n",
      "Iter 27200: loss 0.4590, time208.40ms\n",
      "Iter 27300: loss 0.3059, time207.11ms\n",
      "Iter 27400: loss 0.3363, time209.62ms\n",
      "Iter 27500: loss 0.3407, time206.75ms\n",
      "Iter 27600: loss 0.1130, time209.69ms\n",
      "Iter 27700: loss 0.1220, time209.10ms\n",
      "Iter 27800: loss 0.1210, time208.01ms\n",
      "Iter 27900: loss 0.6077, time211.25ms\n",
      "Step 28000: train loss 1.2896, val loss 1.3552\n",
      "Iter 28000: loss 0.0219, time61713.26ms\n",
      "Iter 28100: loss 0.2877, time211.80ms\n",
      "Iter 28200: loss 0.3180, time207.60ms\n",
      "Iter 28300: loss 0.2626, time209.02ms\n",
      "Iter 28400: loss 0.1521, time209.64ms\n",
      "Iter 28500: loss 0.2464, time207.65ms\n",
      "Iter 28600: loss 0.0923, time208.75ms\n",
      "Iter 28700: loss 0.2819, time208.53ms\n",
      "Iter 28800: loss 0.0852, time210.07ms\n",
      "Iter 28900: loss 0.2108, time209.57ms\n",
      "Step 29000: train loss 1.5765, val loss 1.3601\n",
      "Iter 29000: loss 0.1249, time61730.75ms\n",
      "Iter 29100: loss 0.1380, time208.80ms\n",
      "Iter 29200: loss 0.1853, time208.02ms\n",
      "Iter 29300: loss 0.2353, time208.73ms\n",
      "Iter 29400: loss 0.4760, time209.48ms\n",
      "Iter 29500: loss 0.5393, time211.57ms\n",
      "Iter 29600: loss 0.3169, time205.25ms\n",
      "Iter 29700: loss 0.4148, time206.05ms\n",
      "Iter 29800: loss 0.0923, time207.46ms\n",
      "Iter 29900: loss 0.3951, time209.57ms\n",
      "Step 30000: train loss 1.0772, val loss 0.9423\n",
      "Iter 30000: loss 0.1751, time61700.52ms\n",
      "Iter 30100: loss 0.1918, time209.12ms\n",
      "Iter 30200: loss 0.3578, time210.99ms\n",
      "Iter 30300: loss 0.1098, time209.76ms\n",
      "Iter 30400: loss 0.3569, time210.30ms\n",
      "Iter 30500: loss 0.0469, time207.56ms\n",
      "Iter 30600: loss 0.5033, time207.56ms\n",
      "Iter 30700: loss 0.4952, time208.68ms\n",
      "Iter 30800: loss 0.0251, time208.48ms\n",
      "Iter 30900: loss 0.3921, time214.15ms\n",
      "Step 31000: train loss 1.0194, val loss 1.0248\n",
      "Iter 31000: loss 0.8052, time61963.26ms\n",
      "Iter 31100: loss 0.2555, time210.71ms\n",
      "Iter 31200: loss 0.0826, time208.29ms\n",
      "Iter 31300: loss 0.2387, time207.45ms\n",
      "Iter 31400: loss 0.1069, time211.78ms\n",
      "Iter 31500: loss 0.6174, time209.63ms\n",
      "Iter 31600: loss 0.2748, time208.18ms\n",
      "Iter 31700: loss 0.4724, time210.17ms\n",
      "Iter 31800: loss 0.1143, time210.72ms\n",
      "Iter 31900: loss 0.2898, time211.19ms\n",
      "Step 32000: train loss 1.6142, val loss 1.5598\n",
      "Iter 32000: loss 0.1490, time61962.05ms\n",
      "Iter 32100: loss 0.5999, time209.92ms\n",
      "Iter 32200: loss 0.1307, time209.58ms\n",
      "Iter 32300: loss 0.3745, time212.01ms\n",
      "Iter 32400: loss 0.4340, time207.97ms\n",
      "Iter 32500: loss 0.2511, time207.84ms\n",
      "Iter 32600: loss 0.0267, time212.04ms\n",
      "Iter 32700: loss 0.2855, time208.10ms\n",
      "Iter 32800: loss 0.2973, time207.53ms\n",
      "Iter 32900: loss 0.0835, time209.41ms\n",
      "Step 33000: train loss 2.2795, val loss 1.9825\n",
      "Iter 33000: loss -0.0133, time61930.37ms\n",
      "Iter 33100: loss 0.2977, time207.93ms\n",
      "Iter 33200: loss 0.4192, time208.06ms\n",
      "Iter 33300: loss 0.9275, time210.59ms\n",
      "Iter 33400: loss 0.2754, time208.69ms\n",
      "Iter 33500: loss 0.2882, time209.06ms\n",
      "Iter 33600: loss 0.1465, time209.71ms\n",
      "Iter 33700: loss 0.1610, time210.05ms\n",
      "Iter 33800: loss 0.1544, time209.92ms\n",
      "Iter 33900: loss 0.1799, time208.37ms\n",
      "Step 34000: train loss 1.4847, val loss 1.3589\n",
      "Iter 34000: loss 0.0730, time61845.07ms\n",
      "Iter 34100: loss 0.1912, time210.46ms\n",
      "Iter 34200: loss 0.2380, time209.28ms\n",
      "Iter 34300: loss 0.2135, time208.05ms\n",
      "Iter 34400: loss 0.0750, time209.93ms\n",
      "Iter 34500: loss 1.2690, time206.21ms\n",
      "Iter 34600: loss 0.1085, time209.28ms\n",
      "Iter 34700: loss 0.1149, time207.83ms\n",
      "Iter 34800: loss 0.1605, time209.89ms\n",
      "Iter 34900: loss 0.1845, time210.25ms\n",
      "Step 35000: train loss 1.6295, val loss 1.4988\n",
      "Iter 35000: loss 0.1471, time61727.73ms\n",
      "Iter 35100: loss 0.1213, time208.51ms\n",
      "Iter 35200: loss 0.1496, time209.92ms\n",
      "Iter 35300: loss 0.2014, time208.40ms\n",
      "Iter 35400: loss 0.1059, time207.15ms\n",
      "Iter 35500: loss 0.2519, time208.33ms\n",
      "Iter 35600: loss 0.1995, time206.73ms\n",
      "Iter 35700: loss 0.3869, time207.61ms\n",
      "Iter 35800: loss 0.3287, time210.57ms\n",
      "Iter 35900: loss 0.1924, time207.34ms\n",
      "Step 36000: train loss 1.7788, val loss 1.6932\n",
      "Iter 36000: loss -0.0016, time61691.66ms\n",
      "Iter 36100: loss 0.2957, time206.92ms\n",
      "Iter 36200: loss 0.0855, time208.21ms\n",
      "Iter 36300: loss 0.3055, time208.08ms\n",
      "Iter 36400: loss 0.2681, time207.22ms\n",
      "Iter 36500: loss 0.1019, time206.08ms\n",
      "Iter 36600: loss 0.2343, time208.45ms\n",
      "Iter 36700: loss 0.3924, time209.05ms\n",
      "Iter 36800: loss 0.1349, time206.76ms\n",
      "Iter 36900: loss 0.1729, time207.84ms\n",
      "Step 37000: train loss 2.5181, val loss 2.1845\n",
      "Iter 37000: loss 0.2420, time61707.68ms\n",
      "Iter 37100: loss 0.1275, time209.28ms\n",
      "Iter 37200: loss 0.1286, time209.39ms\n",
      "Iter 37300: loss 0.0816, time209.20ms\n",
      "Iter 37400: loss 0.0473, time207.25ms\n",
      "Iter 37500: loss 0.2196, time207.36ms\n",
      "Iter 37600: loss 0.1047, time207.99ms\n",
      "Iter 37700: loss 0.0062, time207.86ms\n",
      "Iter 37800: loss 0.1019, time209.46ms\n",
      "Iter 37900: loss 0.0911, time209.45ms\n",
      "Step 38000: train loss 1.8870, val loss 1.6956\n",
      "Iter 38000: loss 0.0846, time61706.86ms\n",
      "Iter 38100: loss 0.4662, time207.10ms\n",
      "Iter 38200: loss 0.1202, time209.28ms\n",
      "Iter 38300: loss 0.1988, time208.63ms\n",
      "Iter 38400: loss 0.1382, time206.34ms\n",
      "Iter 38500: loss 0.0562, time207.97ms\n",
      "Iter 38600: loss 0.3178, time206.77ms\n",
      "Iter 38700: loss 0.2237, time209.67ms\n",
      "Iter 38800: loss 0.5240, time208.55ms\n",
      "Iter 38900: loss 0.3397, time210.05ms\n",
      "Step 39000: train loss 1.7804, val loss 1.6512\n",
      "Iter 39000: loss 0.1509, time61686.24ms\n",
      "Iter 39100: loss 0.3672, time207.47ms\n",
      "Iter 39200: loss 0.3128, time208.68ms\n",
      "Iter 39300: loss 0.2643, time206.92ms\n",
      "Iter 39400: loss 0.0180, time208.25ms\n",
      "Iter 39500: loss 0.3245, time208.38ms\n",
      "Iter 39600: loss 0.1166, time207.59ms\n",
      "Iter 39700: loss 0.1675, time211.00ms\n",
      "Iter 39800: loss 0.2815, time207.74ms\n",
      "Iter 39900: loss 0.1805, time208.24ms\n",
      "Step 40000: train loss 1.6414, val loss 1.6378\n",
      "Iter 40000: loss 0.0078, time61705.93ms\n",
      "Iter 40100: loss 0.3519, time209.18ms\n",
      "Iter 40200: loss 0.4011, time208.79ms\n",
      "Iter 40300: loss 0.0466, time209.33ms\n",
      "Iter 40400: loss 0.0701, time207.84ms\n",
      "Iter 40500: loss 0.0786, time210.26ms\n",
      "Iter 40600: loss 0.1120, time209.98ms\n",
      "Iter 40700: loss 0.0993, time208.06ms\n",
      "Iter 40800: loss 0.1368, time208.20ms\n",
      "Iter 40900: loss 0.3665, time209.36ms\n",
      "Step 41000: train loss 2.0756, val loss 1.7726\n",
      "Iter 41000: loss -0.0661, time61690.10ms\n",
      "Iter 41100: loss 0.0090, time209.74ms\n",
      "Iter 41200: loss 0.1007, time208.13ms\n",
      "Iter 41300: loss 0.3418, time210.80ms\n",
      "Iter 41400: loss 0.3094, time208.61ms\n",
      "Iter 41500: loss 0.2117, time208.72ms\n",
      "Iter 41600: loss 0.2814, time207.32ms\n",
      "Iter 41700: loss 0.0258, time206.35ms\n",
      "Iter 41800: loss 0.3098, time208.97ms\n",
      "Iter 41900: loss 0.2513, time206.94ms\n",
      "Step 42000: train loss 1.7897, val loss 1.9456\n",
      "Iter 42000: loss 0.0187, time61729.12ms\n",
      "Iter 42100: loss 0.2154, time210.03ms\n",
      "Iter 42200: loss 0.2328, time209.16ms\n",
      "Iter 42300: loss 0.0274, time205.90ms\n",
      "Iter 42400: loss 0.3157, time209.74ms\n",
      "Iter 42500: loss 0.1665, time209.89ms\n",
      "Iter 42600: loss 0.1885, time208.40ms\n",
      "Iter 42700: loss 0.1843, time209.15ms\n",
      "Iter 42800: loss 0.1705, time209.55ms\n",
      "Iter 42900: loss 0.0415, time209.06ms\n",
      "Step 43000: train loss 2.3860, val loss 2.0907\n",
      "Iter 43000: loss -0.1913, time61712.82ms\n",
      "Iter 43100: loss 0.5691, time207.20ms\n",
      "Iter 43200: loss 0.2309, time206.57ms\n",
      "Iter 43300: loss 0.2427, time207.15ms\n",
      "Iter 43400: loss 0.0833, time209.35ms\n",
      "Iter 43500: loss 0.1900, time209.55ms\n",
      "Iter 43600: loss 0.1689, time209.50ms\n",
      "Iter 43700: loss 0.3060, time207.73ms\n",
      "Iter 43800: loss 0.3169, time207.00ms\n",
      "Iter 43900: loss 0.4326, time208.32ms\n",
      "Step 44000: train loss 1.5055, val loss 1.4204\n",
      "Iter 44000: loss 0.0357, time61702.87ms\n",
      "Iter 44100: loss 0.0147, time208.10ms\n",
      "Iter 44200: loss 0.5100, time208.53ms\n",
      "Iter 44300: loss 0.1250, time208.39ms\n",
      "Iter 44400: loss 0.1594, time208.34ms\n",
      "Iter 44500: loss 0.1793, time204.68ms\n",
      "Iter 44600: loss 0.0908, time210.09ms\n",
      "Iter 44700: loss 0.0221, time210.12ms\n",
      "Iter 44800: loss 0.3022, time207.34ms\n",
      "Iter 44900: loss 0.3049, time207.45ms\n",
      "Step 45000: train loss 1.8366, val loss 1.7471\n",
      "Iter 45000: loss 0.0400, time61702.77ms\n",
      "Iter 45100: loss 0.6739, time208.78ms\n",
      "Iter 45200: loss 0.0404, time210.05ms\n",
      "Iter 45300: loss 0.1631, time207.69ms\n",
      "Iter 45400: loss 0.1416, time206.95ms\n",
      "Iter 45500: loss 0.0826, time207.07ms\n",
      "Iter 45600: loss 0.2537, time206.79ms\n",
      "Iter 45700: loss 0.1058, time206.46ms\n",
      "Iter 45800: loss 0.2566, time206.82ms\n",
      "Iter 45900: loss 0.2387, time208.51ms\n",
      "Step 46000: train loss 1.9333, val loss 1.8707\n",
      "Iter 46000: loss -0.0679, time61723.87ms\n",
      "Iter 46100: loss 0.3019, time207.33ms\n",
      "Iter 46200: loss 0.1322, time206.37ms\n",
      "Iter 46300: loss 0.1700, time211.73ms\n",
      "Iter 46400: loss 0.0064, time206.02ms\n",
      "Iter 46500: loss 0.0152, time208.56ms\n",
      "Iter 46600: loss 0.1248, time210.18ms\n",
      "Iter 46700: loss 0.0805, time206.55ms\n",
      "Iter 46800: loss 0.2056, time206.97ms\n",
      "Iter 46900: loss 0.0935, time209.53ms\n",
      "Step 47000: train loss 1.4940, val loss 1.5187\n",
      "Iter 47000: loss -0.0518, time61716.34ms\n",
      "Iter 47100: loss 0.2241, time207.24ms\n",
      "Iter 47200: loss 0.2101, time210.83ms\n",
      "Iter 47300: loss 0.2318, time208.14ms\n",
      "Iter 47400: loss 0.1562, time207.44ms\n",
      "Iter 47500: loss 0.0450, time208.30ms\n",
      "Iter 47600: loss 0.1156, time208.45ms\n",
      "Iter 47700: loss 0.0450, time209.40ms\n",
      "Iter 47800: loss 0.2540, time209.76ms\n",
      "Iter 47900: loss 0.1276, time208.17ms\n",
      "Step 48000: train loss 1.7614, val loss 1.7294\n",
      "Iter 48000: loss -0.1558, time61712.75ms\n",
      "Iter 48100: loss 0.2448, time211.78ms\n",
      "Iter 48200: loss 0.1287, time209.45ms\n",
      "Iter 48300: loss 0.0950, time209.05ms\n",
      "Iter 48400: loss 0.1495, time208.77ms\n",
      "Iter 48500: loss 0.1541, time207.95ms\n",
      "Iter 48600: loss 0.2261, time207.53ms\n",
      "Iter 48700: loss 0.1716, time207.24ms\n",
      "Iter 48800: loss 0.1003, time208.68ms\n",
      "Iter 48900: loss 0.1847, time208.91ms\n",
      "Step 49000: train loss 1.8308, val loss 1.8099\n",
      "Iter 49000: loss 0.3757, time61915.67ms\n",
      "Iter 49100: loss 0.0993, time211.38ms\n",
      "Iter 49200: loss 0.0925, time211.01ms\n",
      "Iter 49300: loss 0.1294, time211.36ms\n",
      "Iter 49400: loss 0.0678, time209.98ms\n",
      "Iter 49500: loss 0.1106, time208.83ms\n",
      "Iter 49600: loss 0.2814, time206.00ms\n",
      "Iter 49700: loss 0.3652, time212.25ms\n",
      "Iter 49800: loss 0.2803, time206.78ms\n",
      "Iter 49900: loss 0.0281, time211.14ms\n",
      "Step 50000: train loss 1.6197, val loss 1.4948\n",
      "Iter 50000: loss 0.0986, time61931.08ms\n",
      "Iter 50100: loss 0.1397, time212.62ms\n",
      "Iter 50200: loss 0.2325, time212.25ms\n",
      "Iter 50300: loss 0.0810, time208.10ms\n",
      "Iter 50400: loss 0.1124, time208.21ms\n",
      "Iter 50500: loss 0.1993, time207.39ms\n",
      "Iter 50600: loss 0.0636, time206.07ms\n",
      "Iter 50700: loss 0.0667, time207.50ms\n",
      "Iter 50800: loss 0.0742, time206.40ms\n",
      "Iter 50900: loss 0.0919, time210.85ms\n",
      "Step 51000: train loss 1.1435, val loss 1.1659\n",
      "Iter 51000: loss 0.1639, time61831.16ms\n",
      "Iter 51100: loss 0.1034, time209.00ms\n",
      "Iter 51200: loss 0.0351, time206.27ms\n",
      "Iter 51300: loss 0.0082, time210.23ms\n",
      "Iter 51400: loss 0.4887, time209.20ms\n",
      "Iter 51500: loss 0.0735, time207.73ms\n",
      "Iter 51600: loss 0.0590, time210.46ms\n",
      "Iter 51700: loss 0.0709, time210.39ms\n",
      "Iter 51800: loss 0.2954, time208.31ms\n",
      "Iter 51900: loss 0.1836, time208.75ms\n",
      "Step 52000: train loss 1.5977, val loss 1.5509\n",
      "Iter 52000: loss -0.0367, time61710.24ms\n",
      "Iter 52100: loss 0.2480, time209.30ms\n",
      "Iter 52200: loss 0.2192, time205.62ms\n",
      "Iter 52300: loss 0.0381, time208.84ms\n",
      "Iter 52400: loss 0.0535, time207.05ms\n",
      "Iter 52500: loss 0.1064, time209.11ms\n",
      "Iter 52600: loss 0.3095, time207.23ms\n",
      "Iter 52700: loss 0.1029, time209.45ms\n",
      "Iter 52800: loss 0.2475, time207.69ms\n",
      "Iter 52900: loss 0.1496, time209.69ms\n",
      "Step 53000: train loss 1.5708, val loss 1.4673\n",
      "Iter 53000: loss 0.2201, time61756.80ms\n",
      "Iter 53100: loss 0.1894, time207.90ms\n",
      "Iter 53200: loss 0.2402, time208.39ms\n",
      "Iter 53300: loss 0.0773, time207.45ms\n",
      "Iter 53400: loss 0.0982, time207.82ms\n",
      "Iter 53500: loss 0.0737, time207.55ms\n",
      "Iter 53600: loss 0.2290, time209.43ms\n",
      "Iter 53700: loss 0.0394, time208.09ms\n",
      "Iter 53800: loss 0.1148, time208.53ms\n"
     ]
    },
    {
     "ename": "KeyboardInterrupt",
     "evalue": "",
     "output_type": "error",
     "traceback": [
      "\u001b[0;31m---------------------------------------------------------------------------\u001b[0m",
      "\u001b[0;31mKeyboardInterrupt\u001b[0m                         Traceback (most recent call last)",
      "Cell \u001b[0;32mIn[112], line 16\u001b[0m\n\u001b[1;32m     13\u001b[0m     \u001b[39mprint\u001b[39m(\u001b[39mf\u001b[39m\u001b[39m\"\u001b[39m\u001b[39mStep \u001b[39m\u001b[39m{\u001b[39;00miter_num\u001b[39m}\u001b[39;00m\u001b[39m: train loss \u001b[39m\u001b[39m{\u001b[39;00mlosses[\u001b[39m'\u001b[39m\u001b[39mtrain\u001b[39m\u001b[39m'\u001b[39m]\u001b[39m:\u001b[39;00m\u001b[39m.4f\u001b[39m\u001b[39m}\u001b[39;00m\u001b[39m, val loss \u001b[39m\u001b[39m{\u001b[39;00mlosses[\u001b[39m'\u001b[39m\u001b[39mval\u001b[39m\u001b[39m'\u001b[39m]\u001b[39m:\u001b[39;00m\u001b[39m.4f\u001b[39m\u001b[39m}\u001b[39;00m\u001b[39m\"\u001b[39m)\n\u001b[1;32m     15\u001b[0m \u001b[39m# Get batch\u001b[39;00m\n\u001b[0;32m---> 16\u001b[0m X, Y \u001b[39m=\u001b[39m get_batch(\u001b[39m'\u001b[39;49m\u001b[39mtrain\u001b[39;49m\u001b[39m'\u001b[39;49m)\n\u001b[1;32m     18\u001b[0m \u001b[39m# Forward\u001b[39;00m\n\u001b[1;32m     19\u001b[0m _, loss \u001b[39m=\u001b[39m model(X, Y)\n",
      "Cell \u001b[0;32mIn[79], line 9\u001b[0m, in \u001b[0;36mget_batch\u001b[0;34m(split)\u001b[0m\n\u001b[1;32m      7\u001b[0m x \u001b[39m=\u001b[39m torch\u001b[39m.\u001b[39mstack([torch\u001b[39m.\u001b[39mfrom_numpy((data[i:i\u001b[39m+\u001b[39mblock_size, \u001b[39m0\u001b[39m])\u001b[39m.\u001b[39mastype(np\u001b[39m.\u001b[39mint64)) \u001b[39mfor\u001b[39;00m i \u001b[39min\u001b[39;00m ix])\n\u001b[1;32m      8\u001b[0m y \u001b[39m=\u001b[39m torch\u001b[39m.\u001b[39mstack([torch\u001b[39m.\u001b[39mfrom_numpy((data[i:i\u001b[39m+\u001b[39mblock_size, \u001b[39m1\u001b[39m])\u001b[39m.\u001b[39mastype(np\u001b[39m.\u001b[39mint64)) \u001b[39mfor\u001b[39;00m i \u001b[39min\u001b[39;00m ix])\n\u001b[0;32m----> 9\u001b[0m x, y \u001b[39m=\u001b[39m x\u001b[39m.\u001b[39;49mto(device), y\u001b[39m.\u001b[39mto(device)\n\u001b[1;32m     10\u001b[0m \u001b[39mreturn\u001b[39;00m x, y\n",
      "\u001b[0;31mKeyboardInterrupt\u001b[0m: "
     ]
    }
   ],
   "source": [
    "t0 = time.time()\n",
    "\n",
    "while True:\n",
    "\n",
    "    # Get learning rate\n",
    "    lr = get_lr(iter_num)\n",
    "    for param_group in optimizer.param_groups:\n",
    "        param_group['lr'] = lr\n",
    "\n",
    "    # Eval\n",
    "    if iter_num % eval_interval == 0:\n",
    "        losses = estimate_loss()\n",
    "        print(f\"Step {iter_num}: train loss {losses['train']:.4f}, val loss {losses['val']:.4f}\")\n",
    "\n",
    "    # Get batch\n",
    "    X, Y = get_batch('train')\n",
    "\n",
    "    # Forward\n",
    "    _, loss = model(X, Y)\n",
    "\n",
    "    # Backward\n",
    "    loss.backward()\n",
    "\n",
    "    # Step optimizer\n",
    "    optimizer.step()\n",
    "    optimizer.zero_grad(set_to_none=True)\n",
    "\n",
    "    # Log\n",
    "    t1 = time.time()\n",
    "    dt = t1-t0\n",
    "    t0 = t1\n",
    "\n",
    "    if iter_num % log_interval == 0:\n",
    "        lossf = loss.item()\n",
    "        print(f'Iter {iter_num}: loss {lossf:.4f}, time{dt*1000:.2f}ms')\n",
    "\n",
    "    # Update iter_num and check for termination conditions\n",
    "    iter_num +=1\n",
    "    if iter_num > max_iters:\n",
    "        break"
   ]
  },
  {
   "attachments": {},
   "cell_type": "markdown",
   "metadata": {},
   "source": [
    "If we load a model that was saved with frozen parameters, are they still frozen?"
   ]
  },
  {
   "cell_type": "code",
   "execution_count": 2,
   "metadata": {},
   "outputs": [],
   "source": [
    "n_labels = 17"
   ]
  },
  {
   "cell_type": "code",
   "execution_count": 3,
   "metadata": {},
   "outputs": [
    {
     "data": {
      "text/plain": [
       "{'n_layer': 12,\n",
       " 'n_head': 12,\n",
       " 'n_embd': 768,\n",
       " 'block_size': 1024,\n",
       " 'dropout': 0.0,\n",
       " 'vocab_size': None,\n",
       " 'out_size': 17,\n",
       " 'bias': False}"
      ]
     },
     "execution_count": 3,
     "metadata": {},
     "output_type": "execute_result"
    }
   ],
   "source": [
    "# Model init\n",
    "model_args = dict(n_layer=12, n_head=12, n_embd=768,\n",
    "                  block_size=1024, dropout=0.0, \n",
    "                  vocab_size=None, out_size=n_labels, bias=False)\n",
    "model_args"
   ]
  },
  {
   "cell_type": "code",
   "execution_count": 4,
   "metadata": {},
   "outputs": [
    {
     "data": {
      "text/plain": [
       "{'n_layer': 12,\n",
       " 'n_head': 12,\n",
       " 'n_embd': 768,\n",
       " 'block_size': 1024,\n",
       " 'dropout': 0.0,\n",
       " 'vocab_size': 50304,\n",
       " 'bias': False}"
      ]
     },
     "execution_count": 4,
     "metadata": {},
     "output_type": "execute_result"
    }
   ],
   "source": [
    "ckpt_path = os.path.join('/media/nvme2/models/redact', 'ckpt_n2c2_frozen.pt')\n",
    "checkpoint = torch.load(ckpt_path, map_location='cuda')\n",
    "checkpoint_model_args = checkpoint['model_args']\n",
    "checkpoint_model_args\n"
   ]
  },
  {
   "cell_type": "code",
   "execution_count": 5,
   "metadata": {},
   "outputs": [
    {
     "name": "stdout",
     "output_type": "stream",
     "text": [
      "number of parameters: 204.70M\n"
     ]
    }
   ],
   "source": [
    "model_args['vocab_size'] = 50304\n",
    "\n",
    "gptconf = GPTConfig(**model_args)\n",
    "model = GPT(gptconf)"
   ]
  },
  {
   "cell_type": "code",
   "execution_count": 6,
   "metadata": {},
   "outputs": [
    {
     "data": {
      "text/plain": [
       "<All keys matched successfully>"
      ]
     },
     "execution_count": 6,
     "metadata": {},
     "output_type": "execute_result"
    }
   ],
   "source": [
    "state_dict = checkpoint['model']\n",
    "# Fix state dict keys, remove '_orig_mod.'\n",
    "unwanted_prefix = '_orig_mod.'\n",
    "for k, v in list(state_dict.items()):\n",
    "    if k.startswith(unwanted_prefix):\n",
    "        state_dict[k[len(unwanted_prefix):]] = state_dict.pop(k)\n",
    "model.load_state_dict(state_dict)"
   ]
  },
  {
   "cell_type": "code",
   "execution_count": 9,
   "metadata": {},
   "outputs": [
    {
     "name": "stdout",
     "output_type": "stream",
     "text": [
      "Number of Parameter: 0.00M\n"
     ]
    }
   ],
   "source": [
    "model_parameters = filter(lambda p: p.requires_grad==False, model.parameters())\n",
    "params = sum([np.prod(p.size()) for p in model_parameters])\n",
    "print(f\"Number of Parameter: {params/1000000:.2f}M\")"
   ]
  },
  {
   "attachments": {},
   "cell_type": "markdown",
   "metadata": {},
   "source": [
    "Nope!"
   ]
  },
  {
   "cell_type": "markdown",
   "metadata": {},
   "source": []
  }
 ],
 "metadata": {
  "kernelspec": {
   "display_name": "Python 3 (ipykernel)",
   "language": "python",
   "name": "python3"
  },
  "language_info": {
   "codemirror_mode": {
    "name": "ipython",
    "version": 3
   },
   "file_extension": ".py",
   "mimetype": "text/x-python",
   "name": "python",
   "nbconvert_exporter": "python",
   "pygments_lexer": "ipython3",
   "version": "3.8.10"
  },
  "orig_nbformat": 4,
  "vscode": {
   "interpreter": {
    "hash": "916dbcbb3f70747c44a77c7bcd40155683ae19c65e1c03b4aa3499c5328201f1"
   }
  }
 },
 "nbformat": 4,
 "nbformat_minor": 2
}
