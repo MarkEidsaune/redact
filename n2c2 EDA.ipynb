{
 "cells": [
  {
   "cell_type": "markdown",
   "id": "93fe59b7",
   "metadata": {},
   "source": [
    "# n2c2 EDA\n",
    "### 2006 & 2014 Deidentification Challenge  \n",
    ">* 2014 data contains one xml file with many records.  Each record contains PHI labels embedded within the text.\n",
    ">* 2006 data contains separate xml files for each record.  Each record contains separate text and labels sections."
   ]
  },
  {
   "cell_type": "code",
   "execution_count": 1,
   "id": "befdcfdc",
   "metadata": {},
   "outputs": [],
   "source": [
    "import os\n",
    "from bs4 import BeautifulSoup as bs\n",
    "import lxml\n",
    "import re\n",
    "from tqdm.notebook import tqdm"
   ]
  },
  {
   "cell_type": "markdown",
   "id": "a9b1ad74",
   "metadata": {},
   "source": [
    "### 2014"
   ]
  },
  {
   "cell_type": "code",
   "execution_count": 2,
   "id": "2dacfcb9",
   "metadata": {},
   "outputs": [],
   "source": [
    "proj_dir = os.path.join(os.path.expanduser('~'), 'redact')\n",
    "train_data_path = os.path.join(\n",
    "    proj_dir,\n",
    "    'data/n2c2_train/deid_surrogate_train_all_version2.xml'\n",
    ")\n",
    "test_data_path = os.path.join(\n",
    "    proj_dir,\n",
    "    'data/n2c2_test/deid_surrogate_test_all_version2.xml'\n",
    ")\n",
    "train_output_dir = os.path.join(\n",
    "    proj_dir,\n",
    "    'data/n2c2_processed/2014/train/'\n",
    ")\n",
    "test_output_dir = os.path.join(\n",
    "    proj_dir,\n",
    "    'data/n2c2_processed/2014/test/'\n",
    ")"
   ]
  },
  {
   "cell_type": "markdown",
   "id": "3f6abe37",
   "metadata": {},
   "source": [
    "##### Train"
   ]
  },
  {
   "cell_type": "code",
   "execution_count": 3,
   "id": "0fe42ec0",
   "metadata": {},
   "outputs": [],
   "source": [
    "with open(train_data_path, 'r') as file:\n",
    "    content = file.readlines()\n",
    "    content = ''.join(content)\n",
    "    bs_content = bs(content, 'lxml')"
   ]
  },
  {
   "cell_type": "code",
   "execution_count": 4,
   "id": "1010f7a6",
   "metadata": {},
   "outputs": [],
   "source": [
    "records = bs_content.find_all('record')"
   ]
  },
  {
   "cell_type": "markdown",
   "id": "6d31cad1",
   "metadata": {},
   "source": [
    "Parse one record"
   ]
  },
  {
   "cell_type": "code",
   "execution_count": 5,
   "id": "9866a3f6",
   "metadata": {},
   "outputs": [],
   "source": [
    "record = records[5]\n",
    "text = record.find('text')\n",
    "text_w_labels = str(text)\n",
    "text_wout_labels = str(text.text)\n",
    "phis = text.find_all('phi')"
   ]
  },
  {
   "cell_type": "code",
   "execution_count": 6,
   "id": "18b3dc8f",
   "metadata": {},
   "outputs": [],
   "source": [
    "start_idx = 0\n",
    "end_idx = len(text_w_labels)\n",
    "phi_array = []\n",
    "for phi in phis:\n",
    "    phi_type = phi['type']\n",
    "#     phi_type_len = len(phi_type)\n",
    "    phi_text = phi.text\n",
    "    label_prefix = 'B-'\n",
    "    for phi_text_token in phi_text.split():\n",
    "        phi_text_len = len(phi_text_token)\n",
    "        phi_start = str(text).find(phi_text_token, start_idx, end_idx)\n",
    "        phi_end = phi_start + phi_text_len\n",
    "        if (phi_type == 'DATE') & bool(re.match(r'(0[1-9]|1[0-2])\\/(0[1-9]|1\\d|2\\d|3[01])', phi_text_token)):\n",
    "            if bool(re.match(r'\\/\\d\\d\\d\\d', str(text)[phi_end+6: phi_end+11])):\n",
    "                phi_text_token = phi_text_token + str(text)[phi_end+6: phi_end+11]\n",
    "                phi_text_len += 5\n",
    "                phi_end += 11\n",
    "            elif bool(re.match(r'\\/\\d\\d', str(text)[phi_end+6: phi_end+9])):\n",
    "                phi_text_token = phi_text_token + str(text)[phi_end+6: phi_end+9]\n",
    "                phi_text_len += 3\n",
    "                phi_end += 9\n",
    "        start_idx = phi_end\n",
    "        phi_array.append([label_prefix + phi_type, phi_text_token])\n",
    "        label_prefix = 'I-'\n",
    "record_out = ''\n",
    "label_out = ''\n",
    "phi_idx = 0\n",
    "for token in text_wout_labels.split():\n",
    "    record_out += token + ' '\n",
    "    if phi_idx == len(phi_array):\n",
    "        label_out += 'O '\n",
    "    elif token == phi_array[phi_idx][1]:\n",
    "        label_out += phi_array[phi_idx][0] + ' '\n",
    "        phi_idx += 1\n",
    "    else:\n",
    "        label_out += 'O '"
   ]
  },
  {
   "cell_type": "code",
   "execution_count": 7,
   "id": "edac4b53",
   "metadata": {},
   "outputs": [],
   "source": [
    "assert(len(record_out.split()) == len(label_out.split()))"
   ]
  },
  {
   "cell_type": "code",
   "execution_count": 8,
   "id": "35dbde3d",
   "metadata": {},
   "outputs": [
    {
     "data": {
      "text/plain": [
       "\"220792313 HLGMC 1885323 085995 12/13/1998 12:00:00 AM FAILED LEFT TOTAL HIP REPLACEMENT . Unsigned DIS Report Status : Unsigned DISCHARGE SUMMARY NAME : LYSSFUST , NY UNIT NUMBER : 096-50-15 ADMISSION DATE : 12/13/98 DISCHARGE DATE : 12/17/98 PRINCIPAL DIAGNOSIS : Failed left total hip replacement . PRINCIPAL PROCEDURE : Left total hip replacement revision . ATTENDING PHYSICIAN : Li Rhalttland , M.D. HISTORY OF PRESENT ILLNESS : This is a 66-year-old Caucasian woman with a history of recurrent left hip dislocations . She 's had multiple medical problems including a severe chronic obstructive pulmonary disease and insulin dependent diabetes mellitus . She fell in October , 1998 , which may have been secondary to a left hip dislocation . She has sustained a right inter-trochanteric hip fracture both treated at Hoseocon Medical Center and transferred to the Heaonboburg Linpack Grant Medical Center for further care by Dr. Stable . She has a right hip dynamic hip screw in place for the intertrochanteric fracture . The left total hip replacement now needs revision due to the multiple dislocations . PAST MEDICAL HISTORY : Insulin dependent diabetes mellitus , hypertension , severe chronic obstructive pulmonary disease , remote history of ethanol abuse , history of thrombocytopenia . PAST SURGICAL HISTORY : Left hip replacement 30 years ago , revised 10 or 15 years later and multiple dislocations ever since . She is status post left total knee replacement 15 years ago and status post right hip dynamic compression screw placement for inter trochanteric fracture in October , 1998 . She is status post appendectomy , status post hysterectomy . ALLERGIES : No known drug allergies . MEDICATIONS ON ADMISSION : Nystatin powder to groin and lobular area b.i.d. prn . Insulin NPH 32 units q.a.m. , regular 10 units q.a.m. Zestril 10 mg. PO t.i.d. Aldactone 25 mg. PO q.day . Lasix 20 mg. PO q.day . Atrovent metered dose inhaler 2 puffs inhaled q.i.d. Percocet 1-2 tablets PO q.6 hours prn . Well butrin slow release 150 mg. PO b.i.d. Os - Cal 500mg. PO b.i.d. Vitamin D 1 tablet PO q.day . Multivitamin 1 tablet PO q.day . Zinc sulfate 220 mg. PO t.i.d. Vitamin C 500 mg. PO b.i.d. Promod2 scoops PO t.i.d. in water or OJ . SOCIAL HISTORY : Two pack a day smoker x40 years . Hasn 't smoked since October , 1998 . A history of ethanol use . Amount unspecified . Lives with her husband in Bayont . PHYSICAL EXAMINATION : She is afebrile . The vital signs are stable . The head and neck exam notable for very poor dentition , no dentures . She wears glasses . There is no evidence of lymphadenopathy . Neck is supple . Pulmonary exam notable for decreased breath sounds bilaterally in the lower lobes . Cardiac : notable for a 2/6 systolic ejection murmur . She has regular rate and rhythm . Abdomen : obese , present bowel sounds , noorganomegaly , no masses . Upper extremities : normal , full range of motion , sensation and motor exam . The lower extremities : right shows a well healed incision consistent with her dynamic hip screw placement . Quads and abductors 4/5 strength , extensor hallucis longus and hamstrings , flexor hallucis longus , tib and gastrocnemius , soleus 5/5 in strength . Sensation is intact , 1+ dorsalis pedis pulses . Full range of motion in the right hip . Left hip : well healed incision , quads , abductors , ileus , psoas 4/5 , hamstring , extensor hallucis longus , left HL , gastroc , soleus 4+/5 . She has palpable dorsalis pedis pulses . Flexion goes to 70 degrees adduction , 10 degrees abduction , 30 degrees internal rotation , 10 degrees external rotation , 15 degrees . Sensation is intact distally . HOSPITAL COURSE AND TREATMENT : The patient was seen prior to surgery where the Pulmonary Service and the Medicine Service evaluated her , she was cleared preoperatively for her surgery . On 12/14/98 the patient underwent revision left total hip replacement . The patient tolerated the procedure well and postoperatively was hemodynamically stable with a hematocrit of 31 and stable vital signs . The decision was made to give her two units of packed red blood cells due to a borderline hypotension . She was seen by both Diabetes and Pulmonary Services who recommended appropriate adjustment of her insulin doses as well as her pulmonary issues ; primarily she was treated with nebulizers and inhalers as well as chest physical therapy and had no pulmonary complications . She was slow to mobilize with physical therapy due to weakness and proprioceptive difficulties . We were very strict with her dislocation precautions , given her history of multiple dislocations . Urine culture grew Enterococcus . Dr. Stable elected to start her on Bactrim for a five day course . She had been on Macrodantin suppressive therapy preoperatively . Prior to discharge , lower extremity noninvasive studies were done to rule out deep venous thrombosis , the results of which are pending at this time . MEDICATIONS ON DISCHARGE : Coumadin 0.5 mg. PO q.p.m. x3 weeks . Insulin NPH 45 units subcutaneous q.a.m. , regular insulin 20 units subcutaneous q.a.m. in addition to a sliding scale . In the evening she gets regular insulin 10 units subcutaneous before supper with a sliding scale . The CZI scale is as follows : for blood sugar 201-250 5 units , 251-300 8 units , 301-350 12 units , 351-400 15 units and greater than 400 18 units . Zestril10 mg. PO b.i.d. Aldactone 25 mg. PO q.day . Lasix 20 mg. PO q.day . Atrovent metered dose inhaler 2 puffs q.i.d. prn . Well butrin slow release 150 mg. PO b.i.d. Os-Cal 500 mg. PO b.i.d. Vitamin D 1 tablet PO q.day . Multivitamin 1 tablet PO q.day . Bactrim 1 tablet double strength b.i.d. x4 days . Ferrous sulfate 325 mg. PO b.i.d. Colace 100 mg. PO b.i.d. Percocet 1-2 tablets PO q.4 hours prn pain . She gets a 1500 cal ADA diet . DOCTOR 'S DISCHARGE ORDERS : She will be transferred to rehabilitation with dislocation precautions , left partial weight bearing will be allowed . Staples may be removed at the 12th to 14th day postoperative point . PT INR levels should be checked twice a week , the results which should be called to Dr. Stable 's office , 495-3401 . Goal INR should be between 1.5 and 2.0 and she will continue on Coumadin for three more weeks . FOLLOW UP : A follow up with Dr. Stable 's office should be scheduled for six weeks from the time of surgery and she should call both her Pulmonologist and Diabetes Specialist for follow up within the next one to two weeks . VITRA E. LINKE , M.D. DICTATING FOR : LI R. STABLE , M.D. TR : dju DD : 12/17/98 TD : 12/17/98 4:14 Pcc : VITRA EJOH LINKE , M.D. LI RIJARRED STABLE , M.D. STAT [ report_end ] \""
      ]
     },
     "execution_count": 8,
     "metadata": {},
     "output_type": "execute_result"
    }
   ],
   "source": [
    "record_out"
   ]
  },
  {
   "cell_type": "code",
   "execution_count": 9,
   "id": "4e72912c",
   "metadata": {},
   "outputs": [
    {
     "data": {
      "text/plain": [
       "'B-ID B-HOSPITAL B-ID B-ID B-DATE O O O O O O O O O O O O O O O O O O B-PATIENT I-PATIENT I-PATIENT O O O B-ID O O O B-DATE O O O B-DATE O O O O O O O O O O O O O O O O O O O O O B-DOCTOR I-DOCTOR O O O O O O O O O O O O O O O O O O O O O O O O O O O O O O O O O O O O O O O O O O O O B-DATE O O O O O O O O O O O O O O O O O O O O O O O O O B-HOSPITAL I-HOSPITAL I-HOSPITAL O O O O B-HOSPITAL I-HOSPITAL I-HOSPITAL I-HOSPITAL I-HOSPITAL O O O O O B-DOCTOR O O O O O O O O O O O O O O O O O O O O O O O O O O O O O O O O O O O O O O O O O O O O O O O O O O O O O O O O O O O O O O O O O O O O O O O O O O O O O O O O O O O O O O O O O O O O O O O O O O O O O O O O O B-DATE O O O O O O O O O O O O O O O O O O O O O O O O O O O O O O O O O O O O O O O O O O O O O O O O O O O O O O O O O O O O O O O O O O O O O O O O O O O O O O O O O O O O O O O O O O O O O O O O O O O O O O O O O O O O O O O O O O O O O O O O O O O O O O O O O O O O O O O O O O O O B-DATE O O O O O O O O O O O O O O O O O B-LOCATION O O O O O O O O O O O O O O O O O O O O O O O O O O O O O O O O O O O O O O O O O O O O O O O O O O O O O O O O O O O O O O O O O O O O O O O O O O O O O O O O O O O O O O O O O O O O O O O O O O O O O O O O O O O O O O O O O O O O O O O O O O O O O O O O O O O O O O O O O O O O O O O O O O O O O O O O O O O O O O O O O O O O O O O O O O O O O O O O O O O O O O O O O O O O O O O O O O O O O O O O O O O O O O O O O O O O O O O O O O O O O O O O O O O O O O O O O O O O O O O O O O O O O O O O O O O O O O O O O O O O B-DATE O O O O O O O O O O O O O O O O O O O O O O O O O O O O O O O O O O O O O O O O O O O O O O O O O O O O O O O O O O O O O O O O O O O O O O O O O O O O O O O O O O O O O O O O O O O O O O O O O O O O O O O O O O O O O O O O O O O O O O O O O O O O O O O O O O O B-DOCTOR O O O O O O O O O O O O O O O O O O O O O O O O O O O O O O O O O O O O O O O O O O O O O O O O O O O O O O O O O O O O O O O O O O O O O O O O O O O O O O O O O O O O O O O O O O O O O O O O O O O O O O O O O O O O O O O O O O O O O O O O O O O O O O O O O O O O O O O O O O O O O O O O O O O O O O O O O O O O O O O O O O O O O O O O O O O O O O O O O O O O O O O O O O O O O O O O O O O O O O O O O O O O O O O O O O O O O O O O O O O O O O O O O O O O O O O O O O O O O O O O O O O O O O O O O O O O O O O O O O O O O O O O O O O O O O O B-DOCTOR O O O B-PHONE O O O O O O O O O O O O O O O O O O O O O O O O O O O O B-DOCTOR O O O O O O O O O O O O O O O O O O O O O O O O O O O O O O O O O O B-DOCTOR I-DOCTOR I-DOCTOR O O O O O B-DOCTOR I-DOCTOR I-DOCTOR O O O O B-DOCTOR O O B-DATE O O B-DATE O O O B-DOCTOR I-DOCTOR I-DOCTOR O O B-DOCTOR I-DOCTOR I-DOCTOR O O O O O O '"
      ]
     },
     "execution_count": 9,
     "metadata": {},
     "output_type": "execute_result"
    }
   ],
   "source": [
    "label_out"
   ]
  },
  {
   "cell_type": "markdown",
   "id": "949dcf79",
   "metadata": {},
   "source": [
    "Parse all records"
   ]
  },
  {
   "cell_type": "code",
   "execution_count": 10,
   "id": "94193964",
   "metadata": {},
   "outputs": [
    {
     "data": {
      "application/vnd.jupyter.widget-view+json": {
       "model_id": "06740840e37f4e30b17e520d87cf0cd9",
       "version_major": 2,
       "version_minor": 0
      },
      "text/plain": [
       "  0%|          | 0/669 [00:00<?, ?it/s]"
      ]
     },
     "metadata": {},
     "output_type": "display_data"
    }
   ],
   "source": [
    "for record in tqdm(records):\n",
    "    record_id = record['id']\n",
    "    text = record.find('text')\n",
    "    text_w_labels = str(text)\n",
    "    text_wout_labels = str(text.text)\n",
    "    phis = text.find_all('phi')\n",
    "    start_idx = 0\n",
    "    end_idx = len(text_w_labels)\n",
    "    phi_array = []\n",
    "    for phi in phis:\n",
    "        phi_type = phi['type']\n",
    "        phi_text = phi.text\n",
    "        label_prefix = 'B-'\n",
    "        for phi_text_token in phi_text.split():\n",
    "            phi_text_len = len(phi_text_token)\n",
    "            phi_start = str(text).find(phi_text_token, start_idx, end_idx)\n",
    "            phi_end = phi_start + phi_text_len\n",
    "            if (phi_type == 'DATE') & bool(re.match(r'(0?[1-9]|1[0-2])\\/(0?[1-9]|1\\d|2\\d|3[01])', phi_text_token)):\n",
    "                if bool(re.match(r'\\/\\d\\d\\d\\d', str(text)[phi_end+6: phi_end+11])):\n",
    "                    phi_text_token = phi_text_token + str(text)[phi_end+6: phi_end+11]\n",
    "                    phi_text_len += 5\n",
    "                    phi_end += 11\n",
    "                elif bool(re.match(r'\\/\\d\\d', str(text)[phi_end+6: phi_end+9])):\n",
    "                    phi_text_token = phi_text_token + str(text)[phi_end+6: phi_end+9]\n",
    "                    phi_text_len += 3\n",
    "                    phi_end += 9\n",
    "            start_idx = phi_end\n",
    "            phi_array.append([label_prefix + phi_type, phi_text_token])\n",
    "            label_prefix = 'I-'\n",
    "    record_out = ''\n",
    "    label_out = ''\n",
    "    phi_idx = 0\n",
    "    for token in text_wout_labels.split():\n",
    "        record_out += token + ' '\n",
    "        if phi_idx == len(phi_array):\n",
    "            label_out += 'O '\n",
    "        elif token == phi_array[phi_idx][1]:\n",
    "            label_out += phi_array[phi_idx][0] + ' '\n",
    "            phi_idx += 1\n",
    "        else:\n",
    "            label_out += 'O '\n",
    "    with open(train_output_dir + '/text/' + f'{record_id}.txt', 'w') as text_file:\n",
    "        text_file.write(record_out[:-1])\n",
    "    with open(train_output_dir + '/labels/' + f'{record_id}.txt', 'w') as label_file:\n",
    "        label_file.write(label_out[:-1])"
   ]
  },
  {
   "cell_type": "markdown",
   "id": "cb8cd562",
   "metadata": {},
   "source": [
    "##### Test  \n",
    "the test data is unlabeled"
   ]
  },
  {
   "cell_type": "code",
   "execution_count": 11,
   "id": "39bb0be6",
   "metadata": {},
   "outputs": [
    {
     "data": {
      "application/vnd.jupyter.widget-view+json": {
       "model_id": "c203ec788877463d96866d758457bd32",
       "version_major": 2,
       "version_minor": 0
      },
      "text/plain": [
       "  0%|          | 0/220 [00:00<?, ?it/s]"
      ]
     },
     "metadata": {},
     "output_type": "display_data"
    }
   ],
   "source": [
    "content = []\n",
    "\n",
    "with open(test_data_path, 'r') as file:\n",
    "    content = file.readlines()\n",
    "    content = ''.join(content)\n",
    "    bs_content = bs(content, 'lxml')\n",
    "    \n",
    "records = bs_content.find_all('record')\n",
    "\n",
    "for record in tqdm(records):\n",
    "    record_id = record['id']\n",
    "    text = record.find('text')\n",
    "    text_wout_labels = str(text.text)\n",
    "    record_out = ''\n",
    "    for token in text_wout_labels.split():\n",
    "        record_out += token + ' '\n",
    "    with open(test_output_dir + '/text/' + f'{record_id}.txt', 'w') as text_file:\n",
    "        text_file.write(record_out[:-1])"
   ]
  },
  {
   "cell_type": "markdown",
   "id": "6f654490",
   "metadata": {},
   "source": [
    "### 2006"
   ]
  },
  {
   "cell_type": "code",
   "execution_count": 12,
   "id": "bf3124da",
   "metadata": {},
   "outputs": [],
   "source": [
    "train_data_dir = os.path.join(\n",
    "    proj_dir,\n",
    "    'data/training-PHI-Gold-Set1/'\n",
    ")\n",
    "train_output_dir = os.path.join(\n",
    "    proj_dir,\n",
    "    'data/n2c2_processed/2006/train/'\n",
    ")"
   ]
  },
  {
   "cell_type": "markdown",
   "id": "e8179013",
   "metadata": {},
   "source": [
    "Parse one record"
   ]
  },
  {
   "cell_type": "code",
   "execution_count": 13,
   "id": "e60939b2",
   "metadata": {},
   "outputs": [],
   "source": [
    "full_path = os.path.join(train_data_dir, '278-02.xml')\n",
    "with open(full_path, 'r') as file:\n",
    "    content = file.readlines()\n",
    "    content = ''.join(content)\n",
    "    record = bs(content, 'lxml')\n",
    "text = record.find('text').text[9:-3]\n",
    "# Add spaces around punctuation\n",
    "text = re.sub('([.,!?()])', r' \\1 ', text)\n",
    "text = re.sub('\\s{2,}', ' ', text)\n",
    "tags = record.find('tags')\n",
    "labels = [label for label in tags if label != '\\n']\n",
    "label_array = []\n",
    "for label in labels:\n",
    "    label_prefix = 'B-'\n",
    "    label_text = label['text']\n",
    "    label_text = re.sub('([.,!?()])', r' \\1 ', label_text)\n",
    "    label_text = re.sub('\\s{2,}', ' ', label_text)\n",
    "    for label_token in label_text.split():\n",
    "        label_token_text = label_token\n",
    "        label_token_type = label_prefix + label['type']\n",
    "    #     start = int(label['start'])\n",
    "    #     end = int(label['end'])\n",
    "        label_array.append([label_token_type, label_token_text]) \n",
    "        label_prefix = 'I-'\n",
    "record_out = ''\n",
    "label_out = ''\n",
    "label_idx = 0\n",
    "for token in text.split():\n",
    "    record_out += token + ' '\n",
    "    if label_idx == len(label_array):\n",
    "        label_out += 'O '\n",
    "    elif token == label_array[label_idx][1]:\n",
    "        label_out += label_array[label_idx][0] + ' '\n",
    "        label_idx += 1\n",
    "    else:\n",
    "        label_out += 'O '"
   ]
  },
  {
   "cell_type": "code",
   "execution_count": 14,
   "id": "9d22d764",
   "metadata": {},
   "outputs": [
    {
     "data": {
      "text/plain": [
       "\"Record date: 2095-07-13 Team 1b Medical Intern Admission Note Pt: Jasso , Stephen MR#: 7990698 Date of Admission: 7/05/95 Attending: I . Ellsworth CC: Vertigo , EKG changes HPI: 73 yo with h/o of DM , CAD s/p anteroseptal MI ( 2091 ) and stent placement presents with 2 days of vertigo , most prominent upon wakening in the a . m . He reports feeling as if he is spinning while the room is stable; this sensation is worsened by changes in position or head movement . It diminishes only slightly as the day progresses . He denies any numbness , weakness , tingling , changes in vision or memory . He denies any recent URI . He does report tinnitus which has been present intermittently for years as well as bilateral sensorineural hearing secondary to gunshot exposure . No NV . The sensation of vertigo is superimposed upon one week of gradually progressive loss of balance , described as not knowing where to put his limbs in relation to space . He also reports ~7 days of mild diarrhea in a . m only , attributable to eating sorbitol ice cream as well as continuing to take Metamucil for the same 7 day period . Diarrhea has been fully resolved for 2 days PTA . He does report good PO fluid intake , ~8 bottles of H20 per day . He monitors his sugars regularly and reports they have been running in the 110-140s . He denies any fevers , chills , sweats or sick contacts . The patient does have ptosis on the L and reports that this has been present less than one month . He has had no changes in medications . Additionally , the patient reports one episode of fleeting chest pain along the midaxillary line on 07/12 which was relieved immediately by NTG . ( Pt attributes the pain to gas as the belching coincident with the NTG also seemed to relieve the pain ) . He does also report an increase in SOB after walking up one flight of stairs which has arisen over the past few months . PMH: DM x 20 years , peripheral neuropathy HTN CAD Anteroseptal MI in 03/91 , PTCA and stent EF 32% ( last echo 2092 ) Hemorrhoids ( normal colo 2095 ) Iritis , corneal dystrophy Osteoporosis Diverticulosis ( ? ) Meds: Glipizide 2 . 5 QD Asa 325 QD Lisinopril 5mg QD Lopressor 50 mg BID Lipitor 10 mg QD Amitryptilline 25 mg QHS Prednisone gtt Caltrate + D ( CALCIUM Carbonate 1500 Mg ( 600 Mg Elem Ca ) / Vit D 200 Iu ) 1 TAB PO BID All: Acetaminophen--rash SH: Tob: 43 year pack hx , quit 2060 EtOH: denies Illicits: denies FH: Mother: pernicious anemia Father: died in accident at young age Brother: leukemia ROS: As in HPI . - General: no weight loss/gain , no fatigue , no fevers , no chills , no change in appetite - Respiratory: no cough , no SOB , no DOE , no hemoptysis , no wheezing - HEENT: no neck stiffness , no hoarseness , no hearing loss - Cardiac: chest pain/pressure as above , no palpitations , no orthopnea , no PND - Gastrointestinal: no nausea , no vomiting , no diarrhea , no constipation , no bleeding - Neurologic: diminished sensation in LLE bilaterally - Lymph nodes: no enlarged lymph nodes - Musculoskeletal: No back pain , no neck pain , no leg pain , no arm pain - Urologic: No hematuria , no dysuria , no polyuria , no nocturia - Hematologic: No bruising , no bleeding - Exposures: No sick contacts , no recent travel Exam: VS: 97 . 7 74 18 98% supine 108/54 standing 127/70 HEENT: NC/AT , PERRL , nonicteric . EOMI , no nystagmus . MMM , w/o exudates . Dicks Hall Pike maneuver elicited neither nystagmus nor symptoms Neck: supple , NT , full ROM , 2+ carotids w/o bruits , no LAD . JVP 7cm Lungs: CTAB; no crackles , no wheezes Cor: RRR; normal S1S2 , no m/r/g appreciated Abd: soft , non-tender , non-distended; NABS; no organomegaly G/R: brown stool , guaiac neg in ER Extr: no c/c/e; 2+ DP's , 1+ PTs bilaterally Neuro: AOx3 , MS nl , CN II through XII intact with exception of L ptosis , motor and sensory nonfocal; DTR's 2+ and symmetric throughout . Equivocal Babinskis bilaterally . F to N nl , H to S nl , FFM intact , Romberg neg . LE Hip flex Hip ext Knee flex Knee ext Ankle flex Ankle ext Right 5 5 5 5 5 5 Left 5 5 5 5 5 5 UE Shoulder abd Elbow ext Elbow flex Wrist ext Wrist flex Finger abd Right 5 5 5 5 5 5 Left 5 5 5 5 5 5 Labs: Chemistry: Chemistry Lytes/Renal/Glucose Sodium 139 135-145 mmol/L 07/13/95 12:59 Potassium 3 . 7 3 . 4-4 . 8 mmol/L 07/13/95 12:59 Chloride 107 100-108 mmol/L 07/13/95 12:59 Carbon Dioxide 23 . 9 23 . 0-31 . 9 mmol/L 07/13/95 12:59 21 . 0 ( L ) 03/12/92 BUN 11 8-25 mg/dl 07/13/95 12:59 Creatinine 0 . 9 0 . 6-1 . 5 mg/dl 07/13/95 12:59 Glucose 111H 70-110 mg/dl 07/13/95 12:59 111 ( H ) 07/13/95 CK-MB NEGATIVE NEG 07/13/95 12:08 15 . 6 ( H ) 03/12/92 Troponin-I NEGATIVE NEG 07/13/95 12:08 Lipid Tests Cholesterol 120 mg/dl 07/04/95 15:59 Triglycerides 102 40-150 mg/dl 07/04/95 15:59 HDL 41 35-100 mg/dl 07/04/95 15:59 LDL Cholesterol 59 mg/dl 07/04/95 15:59 Chol/HDL Ratio 2 . 9 07/04/95 15:5 Hemoglobin A1C 4 . 40 3 . 80-6 . 40 % 07/09/95 11:31 6 . 50 ( H ) 03/14/92 Hematology Complete Blood Count WBC 8 . 5 4 . 5-11 . 0 th/cmm 07/13/95 12:35 15 . 5 ( H ) 03/12/92 RBC NOT DONE 4 . 50-5 . 90 mil/cm 07/13/95 12:35 Hgb see detail 07/13/95 12:35 13 . 0 ( L ) 03/11/92 HCT see detail 07/13/95 12:35 40 . 5 ( L ) 03/12/92 MicroHCT 31 . 5L 41 . 0-53 . 0 % 07/13/95 13:17 31 . 5 ( L ) 07/13/95 MCV NOT DONE 80-100 fl 07/13/95 12:35 MCH NOT DONE 26 . 0-34 . 0 pg/rbc 07/13/95 12:35 MCHC NOT DONE 31 . 0-37 . 0 g/dl 07/13/95 12:35 PLT 206 150-350 th/cumm 07/13/95 12:35 RDW NOT DONE 11 . 5-14 . 5 % 07/13/95 12:35 Coagulation Routine Coagulation PT 12 . 8 11 . 1-13 . 1 sec 03/11/92 12:16 13 . 5 ( H ) 03/11/92 PT-INR 1 . 1 03/11/92 12:16 Cardiac markers negative x 1: UA:negative Guaic: negative EKG: Old anteroseptal infarct-Q and ST elevations in V2-4 CXR: The lungs are well aerated . There are no focal areas of consolidation or effusion . The cardiac silhouette is normal in size and configuration . There are no mediastinal abnormalities . There are no osseous or soft tissue abnormalities . CT: No evidence of acute intracranial pathology . Nonspecific periventricular white matter hypodensities most consistent with microangiopathic disease in a patient of this age MRA: pending ________________________________________________________________________ A/P: 73 yo with h/o HTN , DM , CAD presenting with 2 days of vertigo and one week of loss of balance . Symptoms of vertigo are most consistent with peripheral vertigo . BPPV most likely as symptoms are worse in a . m and diminish over the day . Given tinnitus Meniers on the diiferential but less likely . Labarynthitis less likely as there is no antecedent infection or associated nausea . Given multiple risk factors central process such as stroke will image brain . Vertigo combined with loss of balance , although not elicited on exam , may represent vertebrobasilar insufficiency . EKG changes concerning for ventricular aneurysm v . anteroseptal reinfarction if viable tissue still remains . ROMI and Echo in a . m . Vertigo: --CT negative for acute process --MRI pending --Neurology consulted CV: Ischemia - ROMI by EKG , markers - Transthoracic echo in a . m . - continue ASA; titrate up Lopressor for goal HR = 60 as BP tolerates - check fasting lipids in AM , continue Lipitor - continue lisinopril - recent HbA1c 4 . 4 Pump - no signs/symptoms of failure on exam , CXR Rhythm - currently NSR; titrate up BB as above - watch for ectopy; keep K = 4 , Mg =2 Dispo: - code status: FULL _______________________________ Virgie Giuliana Quintanar , M . D . Pager #11591 \""
      ]
     },
     "execution_count": 14,
     "metadata": {},
     "output_type": "execute_result"
    }
   ],
   "source": [
    "record_out"
   ]
  },
  {
   "cell_type": "code",
   "execution_count": 15,
   "id": "5e079a3f",
   "metadata": {},
   "outputs": [
    {
     "data": {
      "text/plain": [
       "'O O B-DATE O O O O O O O B-PATIENT I-PATIENT I-PATIENT O B-MEDICALRECORD O O O B-DATE O B-DOCTOR I-DOCTOR I-DOCTOR O O O O O O B-AGE O O O O O O O O O O O B-DATE O O O O O O O O O O O O O O O O O O O O O O O O O O O O O O O O O O O O O O O O O O O O O O O O O O O O O O O O O O O O O O O O O O O O O O O O O O O O O O O O O O O O O O O O O O O O O O O O O O O O O O O O O O O O O O O O O O O O O O O O O O O O O O O O O O O O O O O O O O O O O O O O O O O O O O O O O O O O O O O O O O O O O O O O O O O O O O O O O O O O O O O O O O O O O O O O O O O O O O O O O O O O O O O O O O O O O O O O O O O O O O O O O O O O O O O O O O O O O O O O O O O O O O O O O O O O O O O O O O O O O B-DATE O O O O O O O O O O O O O O O O O O O O O O O O O O O O O O O O O O O O O O O O O O O O O O O O O O O O O O O O O O O O O O O O O O B-DATE O O O O O O O O O B-DATE O O O O O B-DATE O O O O O O O O O O O O O O O O O O O O O O O O O O O O O O O O O O O O O O O O O O O O O O O O O O O O O O O O O O O O O O O O O O O O O O B-DATE O O O O O O O O O O O O O O O O O O O O O O O O O O O O O O O O O O O O O O O O O O O O O O O O O O O O O O O O O O O O O O O O O O O O O O O O O O O O O O O O O O O O O O O O O O O O O O O O O O O O O O O O O O O O O O O O O O O O O O O O O O O O O O O O O O O O O O O O O O O O O O O O O O O O O O O O O O O O O O O O O O O O O O O O O O O O O O O O O O O O O O O O O O O O O O O O O O O O O O O O O O O O O O O O O O O O O O O O O O O O O O O O O O O O O O O O O O O O O O O O O O O O O O O O O O O O O O O O O O O O O O O O O O O O O O O O O O O O O O O O O O O O O O O O O O O O O O O O O O O O O O O O O O O O O O O O O O O O O O O O O O O O O O O O O O O O O O O O O O O O O O O O O O O O O O O O O O O O O O O O O O O O O O B-DATE O O O O O O O O O O O B-DATE O O O O O B-DATE O O O O O O O O O O O O B-DATE O O O O O O O B-DATE O O O O B-DATE O O O O O O O O O O O B-DATE O O O O O B-DATE O O O O O B-DATE O O O B-DATE O O O O O O O B-DATE O O O B-DATE O O O O O O B-DATE O O O O O B-DATE O O O O O B-DATE O O O O O B-DATE O O O O O O B-DATE O O O O O O O O O O O O B-DATE O O O O O O O B-DATE O O O O O O O O O O O O O O B-DATE O O O O O O O B-DATE O O O O O O O O O B-DATE O O O O B-DATE O O O O O O O B-DATE O O O B-DATE O O O O O O O B-DATE O O O O O O O O O O B-DATE O O O O O O O B-DATE O O O O O B-DATE O O O O O O O O O O B-DATE O O O O O O O O O O B-DATE O O O O O B-DATE O O O O O O O O O O B-DATE O O O O O O O O O O O O O O B-DATE O O O O O O O B-DATE O O O O B-DATE O O O O O O O O O O O O O O O O O O O O O O O O O O O O O O O O O O O O O O O O O O O O O O O O O O O O O O O O O O O O O O O O O O O O O O O O O O O O O O O O O O O O O O O O B-AGE O O O O O O O O O O O O O O O O O O O O O O O O O O O O O O O O O O O O O O O O O O O O O O O O O O O O O O O O O O O O O O O O O O O O O O O O O O O O O O O O O O O O O O O O O O O O O O O O O O O O O O O O O O O O O O O O O O O O O O O O O O O O O O O O O O O O O O O O O O O O O O O O O O O O O O O O O O O O O O O O O O O O O O O O O O O O O O O O O O O O O O O O O O O O O O O O O O O O O O O O O O O O O O O O O O O O O O O O O O O O O B-DOCTOR I-DOCTOR I-DOCTOR O O O O O O O '"
      ]
     },
     "execution_count": 15,
     "metadata": {},
     "output_type": "execute_result"
    }
   ],
   "source": [
    "label_out"
   ]
  },
  {
   "cell_type": "markdown",
   "id": "ace2dff9",
   "metadata": {},
   "source": [
    "Parse all records"
   ]
  },
  {
   "cell_type": "code",
   "execution_count": 16,
   "id": "7c959fdb",
   "metadata": {},
   "outputs": [
    {
     "data": {
      "application/vnd.jupyter.widget-view+json": {
       "model_id": "14009217318d44c7b1d931ce87565862",
       "version_major": 2,
       "version_minor": 0
      },
      "text/plain": [
       "  0%|          | 0/521 [00:00<?, ?it/s]"
      ]
     },
     "metadata": {},
     "output_type": "display_data"
    }
   ],
   "source": [
    "for path in tqdm(os.listdir(train_data_dir)):\n",
    "    record_id = path[:-4]\n",
    "    # Open and read file\n",
    "    full_path = os.path.join(train_data_dir, path)\n",
    "    with open(full_path, 'r') as file:\n",
    "        content = file.readlines()\n",
    "        content = ''.join(content)\n",
    "        record = bs(content, 'lxml')\n",
    "    # Get text element\n",
    "    text = record.find('text').text[9:-3]\n",
    "    # Add spaces around punctuation\n",
    "    text = re.sub('([.,!?()])', r' \\1 ', text)\n",
    "    text = re.sub('\\s{2,}', ' ', text)\n",
    "    # Get tags element\n",
    "    tags = record.find('tags')\n",
    "    labels = [label for label in tags if label != '\\n']\n",
    "    label_array = []\n",
    "    # Create label matrix\n",
    "    for label in labels:\n",
    "        label_prefix = 'B-'\n",
    "        label_text = label['text']\n",
    "        label_text = re.sub('([.,!?()])', r' \\1 ', label_text)\n",
    "        label_text = re.sub('\\s{2,}', ' ', label_text)\n",
    "        for label_token in label_text.split():\n",
    "            label_token_text = label_token\n",
    "            label_token_type = label_prefix + label['type']\n",
    "            label_array.append([label_token_type, label_token_text]) \n",
    "            label_prefix = 'I-'\n",
    "    # Create output files: text and labels\n",
    "    record_out = ''\n",
    "    label_out = ''\n",
    "    label_idx = 0\n",
    "    for token in text.split():\n",
    "        record_out += token + ' '\n",
    "        if label_idx == len(label_array):\n",
    "            label_out += 'O '\n",
    "        elif token == label_array[label_idx][1]:\n",
    "            label_out += label_array[label_idx][0] + ' '\n",
    "            label_idx += 1\n",
    "        else:\n",
    "            label_out += 'O '\n",
    "    # Write output files\n",
    "    with open(train_output_dir + '/text/' + f'{record_id}.txt', 'w') as text_file:\n",
    "        text_file.write(record_out[:-1])\n",
    "    with open(train_output_dir + '/labels/' + f'{record_id}.txt', 'w') as label_file:\n",
    "        label_file.write(label_out[:-1])"
   ]
  },
  {
   "cell_type": "code",
   "execution_count": null,
   "id": "d36d234f",
   "metadata": {},
   "outputs": [],
   "source": []
  }
 ],
 "metadata": {
  "kernelspec": {
   "display_name": "Python 3 (ipykernel)",
   "language": "python",
   "name": "python3"
  },
  "language_info": {
   "codemirror_mode": {
    "name": "ipython",
    "version": 3
   },
   "file_extension": ".py",
   "mimetype": "text/x-python",
   "name": "python",
   "nbconvert_exporter": "python",
   "pygments_lexer": "ipython3",
   "version": "3.8.10"
  }
 },
 "nbformat": 4,
 "nbformat_minor": 5
}
